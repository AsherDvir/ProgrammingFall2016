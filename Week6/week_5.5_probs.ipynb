{
 "cells": [
  {
   "cell_type": "markdown",
   "metadata": {},
   "source": [
    "This week's problem set gives you lots of choice. You can work on whatever part you would like. In particular there are three sections: built in functions, matrix manipulations, and random variable generation."
   ]
  },
  {
   "cell_type": "markdown",
   "metadata": {},
   "source": [
    "### Built in Functions\n",
    "To get to know some built in functions, I've provided a list below. You should comment on each function as to what it does and provide a working example. The first I've done for you."
   ]
  },
  {
   "cell_type": "code",
   "execution_count": 1,
   "metadata": {
    "collapsed": false
   },
   "outputs": [
    {
     "data": {
      "text/html": [
       "2"
      ],
      "text/latex": [
       "2"
      ],
      "text/markdown": [
       "2"
      ],
      "text/plain": [
       "[1] 2"
      ]
     },
     "metadata": {},
     "output_type": "display_data"
    }
   ],
   "source": [
    "x <- -2\n",
    "abs(x)     # The absolute value of \"x\""
   ]
  },
  {
   "cell_type": "code",
   "execution_count": null,
   "metadata": {
    "collapsed": true
   },
   "outputs": [],
   "source": [
    "append()   \n",
    "c()    \n",
    "cat()   \n",
    "cbind()    \n",
    "diff()\n",
    "gl()   \n",
    "grep() \n",
    "identical()\n",
    "jitter()   \n",
    "julian()   \n",
    "length()  \n",
    "ls()       \n",
    "mat.or.vec()\n",
    "paste()\n",
    "paste0()\n",
    "range()    \n",
    "rep()    \n",
    "rev()      \n",
    "seq()\n",
    "sequence()   \n",
    "sign()      \n",
    "sort()      \n",
    "order()     \n",
    "tolower()\n",
    "toupper()  \n",
    "unique()      \n",
    "system()  \n",
    "vector()       "
   ]
  },
  {
   "cell_type": "markdown",
   "metadata": {},
   "source": [
    "### Matix Manipulation\n",
    "The goal of this exercise will be to create the following matrices and use them in calculations:\n",
    "$$\n",
    "\\begin{align*}\n",
    "A &=\n",
    "\\begin{bmatrix}\n",
    "    1 & 2 \\\\\n",
    "    3 & 4 \\\\\n",
    "\\end{bmatrix}\\\\\n",
    "B &=\n",
    "\\begin{bmatrix}\n",
    "    5 & 6 \\\\\n",
    "    7 & 8 \\\\\n",
    "\\end{bmatrix}\n",
    "\\end{align*}\n",
    "$$\n",
    "1. Use the invertible matrix theorem to show that both $A$ and $B$ are invertible (hint: it suffices to show that the columns are linearly independent or to show that the determinant is not zero).\n",
    "2. Calculate by hand the matrices $A^{-1}$ and $B^{-1}$.\n",
    "3. Use a `for` loop to create a vector containing the entries in $A$, then use the `matrix` function to convert your vector into the matrix $A$. Do the same for $B$.\n",
    "4. Create a $2 \\times 2$ matrix of zeros, then using nested for loops, loop over individual entries of this matrix filling in the values for $A$. Do the same for $B$.\n",
    "5. Create vectors `a1`, `a2`, `b1`, `b2`, corresponding to the columns of $A$ and $B$. Use `cbind` to combine these columns into the matrics $A$ and $B$.\n",
    "6. Use the `solve` function to calculate the inverse of $A$ and of $B$.\n",
    "7. Use the answer to your above question to calculate $A^{-1}A$ and $B^{-1}B$."
   ]
  },
  {
   "cell_type": "markdown",
   "metadata": {},
   "source": [
    "### Statistical Functions\n",
    "**NOTE:** If you are interested in more statistical examples, check out <a href=\"http://www.r-tutor.com/category/r-packages/mass\" target=\"_blank\">these lessons</a>.\n",
    "1. Can a computer generate a random number? Why or why not?\n",
    "2. From what distribution does a random number generater draw? How does the computer convert from this distribution to whatever distribution you specify?\n",
    "3. What package did we use in class to generate random numbers more easily?\n",
    "4. Type `data()` into R to see a list of built in data sets.\n",
    "5. Load the package mentioned in (3) and run `data()` again, there should be more datasets available. **NOTE:** we will not use this data today, this is just to show you it's there.\n",
    "6. Use the `runif` function to generate $\\mathbf{x}$, a random vector of length $100$ whose entries $x_i \\sim U(0, 2)$ in one line.\n",
    "7. Define a value $p$ and another vector $y$ such that if an entry in $\\mathbf{x}$ is bigger than $p$, the corresponding entry in $y$ is $0$ and $1$ otherwise. Use a for loop combined with an if statement to fill `y`.\n",
    "8. Do the same as above using the `sample` function in one line.\n",
    "9. Use `rnorm` to generate a vector `z` of $100$ random numbers distributed $\\mathcal{N}(1.0, 2.0)$ in one line.\n",
    "10. Use a for loop to loop over values in `y`. If `y` is zero, add $0.5$ to the corresponding value of `z`\n",
    "10. Plot `z` as a function of `y`. What kind of data might this represent? What could `y` be? What could `z` be?\n",
    "11. Can you fit a linear regression to this data? Add the line to your plot using built in R functions. Is this a good way to model the data?"
   ]
  }
 ],
 "metadata": {
  "kernelspec": {
   "display_name": "R",
   "language": "R",
   "name": "ir"
  },
  "language_info": {
   "codemirror_mode": "r",
   "file_extension": ".r",
   "mimetype": "text/x-r-source",
   "name": "R",
   "pygments_lexer": "r",
   "version": "3.3.1"
  }
 },
 "nbformat": 4,
 "nbformat_minor": 0
}
