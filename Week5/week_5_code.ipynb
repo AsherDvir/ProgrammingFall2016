{
 "cells": [
  {
   "cell_type": "code",
   "execution_count": 71,
   "metadata": {
    "collapsed": false
   },
   "outputs": [],
   "source": [
    "# Origin: Code for week 5 of programming class.\n",
    "# Author: Tyler Abbot\n",
    "# Title: week_5_code.ipynb\n",
    "# Last modified: 2016.08.06"
   ]
  },
  {
   "cell_type": "markdown",
   "metadata": {},
   "source": [
    "# Introduction\n",
    "\n",
    "Today's class will introduce you to **packages in R**.\n",
    "\n",
    "## Today's Objective\n",
    "\n",
    "Our goal for the day is to become familiar with packages, not only some of the many packages available, but how to create our own. We would like to achieve the following objectives:\n",
    "1. Discuss code modularity and packages.\n",
    "2. Discuss neat packages that are available.\n",
    "3. Discuss the benefits of creating your own packages.\n",
    "4. Learn how to create a package from start to finish.\n",
    "5. Learn how to publish your code.\n",
    "6. Learn about collaboration using Github.\n",
    "\n",
    "If by the end of the class, you feel we haven't sufficiently covered one of these, speak up!"
   ]
  },
  {
   "cell_type": "markdown",
   "metadata": {},
   "source": [
    "## A Working Example : Hello World\n",
    "\n",
    "Today you should have no problems with the example problem. Our goal is simply to print to screen the phrase \"Hello World.\", a [proto-typical computer programming example](https://en.wikipedia.org/wiki/%22Hello,_World!%22_program).\n",
    "\n",
    "This example is important for your nerd culture, but we haven't seen it yet because in R it is so trivial:"
   ]
  },
  {
   "cell_type": "code",
   "execution_count": 2,
   "metadata": {
    "collapsed": false
   },
   "outputs": [
    {
     "name": "stdout",
     "output_type": "stream",
     "text": [
      "[1] \"Hello World.\"\n"
     ]
    }
   ],
   "source": [
    "print(\"Hello World.\")"
   ]
  },
  {
   "cell_type": "markdown",
   "metadata": {},
   "source": [
    "Ta-da! We did it! This is incredibly simple, but our goal today will be to write and publish a package that includes a function to do exactly this.\n",
    "\n",
    "Before we get into the nitty-gritty though, we should talk about what are packages and why do we use them."
   ]
  },
  {
   "cell_type": "markdown",
   "metadata": {},
   "source": [
    "## What are packages?\n",
    "\n",
    "A **package** is just code, like we've been writing all along, which contains functions related to one or several similar topics. The goal is to allow the user to specify exactly what functions they would like to load into the namespace at any one time.\n",
    "\n",
    "If you've ever used Matlab, you know that it is very slow to start up. This is because every time you start matlab it loads all of its functionality.\n",
    "\n",
    "In R, users can create their own packages and publish them to the Comprehensive R Archive Network (CRAN). Packges available there include everything from \"Immunoglobulin Clonal Lineage and Diversity Analysis\" to \"Bayseian Structural Time Series\". In fact, (according to [this website](http://blog.revolutionanalytics.com/2015/06/how-many-packages-are-there-really-on-cran.html)) there are over 6700 packages available, all open source and free.\n",
    "\n",
    "You can imagine how long it would take to load all of those when starting up R! The package system allows you to pick and choose what you would like to use."
   ]
  },
  {
   "cell_type": "markdown",
   "metadata": {},
   "source": [
    "## Neat Packages\n",
    "\n",
    "You will find yourself becoming interested in some incredibly specific area of research in the future and you'll probably be the only nerd working on your topic, but until then you might find yourself using packages others have made. [For a list of useful packages, see here.](https://support.rstudio.com/hc/en-us/articles/201057987-Quick-list-of-useful-R-packages)\n",
    "\n",
    "We've already interacted with one package (MASS) and we will see more as we move along to more complicated topics. Today we are going to need the following package, so let's install them:\n",
    "\n",
    "**NOTE:** If you get a `non-zero exit status` error, check the error message, it may be caused by curl problems with the `git2r` package. If on Unix machine, try running `sudo apt-get -y install libcurl4-gnutls-dev\n",
    "`."
   ]
  },
  {
   "cell_type": "code",
   "execution_count": 3,
   "metadata": {
    "collapsed": false
   },
   "outputs": [
    {
     "name": "stderr",
     "output_type": "stream",
     "text": [
      "also installing the dependency ‘git2r’\n",
      "\n"
     ]
    }
   ],
   "source": [
    "#install.packages(\"devtools\",\n",
    "#                 repos='http://cran.us.r-project.org')\n",
    "#install.packages(\"testthat\",\n",
    "#                 repos='http://cran.us.r-project.org')\n",
    "#install.packages(\"roxygen2\",\n",
    "#                 repos='http://cran.us.r-project.org')"
   ]
  },
  {
   "cell_type": "markdown",
   "metadata": {
    "collapsed": true
   },
   "source": [
    "At this point you are probably experiencing errors! Welcome, my friend, to open source computing. Some tips on solving your problem:\n",
    "1. Look at the error message. If it says you need some other package, try installing that.\n",
    "2. Copy your errors into google and search them, you are not the first to come this way.\n",
    "3. Add `verbose=TRUE` to the `install.packages` command to get more verbose output and see if there is some error you're missing.\n",
    "4. Keep struggling! It will work."
   ]
  },
  {
   "cell_type": "markdown",
   "metadata": {},
   "source": [
    "## Creating Your Own Packages\n",
    "\n",
    "Before we get to the nitty gritty, let's take a minute to consider why this is a good idea, particularly from your perspective as a graduate student in economics.\n",
    "\n",
    "Open source computing is a wonderful thing, but it can sometimes seem like a useless amount of extra work to publish your own code. Here are some reasons you should really consider doing this:\n",
    "\n",
    "1. **\"You are an intellectual entrepreneur.\"** That's a quote from Stephen Magee (possibly the happiest guy I ever met), one of my teachers in undergrad. He was referring to an academic's job to not only do research, but to sell their ideas to the world. You will only be truly successful if you can convince other people that you are important. One easy way to do so is to create a portfolio of open-source computing projects which you have either started or contributed to.\n",
    "2. **Building competence.** The only way to learn how to code is to code, but the only way to learn how to write good, clean code is to let experienced programmers critique your work. You can get this kind of criticism by contributing to an open source project.\n",
    "3. **Getting a job.** When you go on the job market, you are going to look exactly like everyone else. You are a graduate student from a decently ranked, European university with, most likely, no publication record. One way to stand out is by showing that you are contributing to the community through computing tools.\n",
    "4. **Giving back.** All the code we are using in this class is open source: R, jupyter, Github, etc. People just like you set aside their free time to make it possible to use these tools for free, so why not do the same?"
   ]
  },
  {
   "cell_type": "markdown",
   "metadata": {},
   "source": [
    "Ok, now that I'm down off my soap box, let's consider what we need in order to create a package in R. We can creat a rough outline of a package using the following command:"
   ]
  },
  {
   "cell_type": "code",
   "execution_count": 10,
   "metadata": {
    "collapsed": false
   },
   "outputs": [
    {
     "name": "stderr",
     "output_type": "stream",
     "text": [
      "Creating package 'PracticePackage' in '/home/tmabbot/MEGA/Teaching/Programming/Courses/Week5'\n",
      "No DESCRIPTION found. Creating with values:\n",
      "\n",
      "\n"
     ]
    },
    {
     "name": "stdout",
     "output_type": "stream",
     "text": [
      "Package: PracticePackage\n",
      "Title: What the Package Does (one line, title case)\n",
      "Version: 0.0.0.9000\n",
      "Authors@R: person(\"First\", \"Last\", email = \"first.last@example.com\", role = c(\"aut\", \"cre\"))\n",
      "Description: What the package does (one paragraph).\n",
      "Depends: R (>= 3.3.1)\n",
      "License: What license is it under?\n",
      "Encoding: UTF-8\n",
      "LazyData: true\n"
     ]
    },
    {
     "name": "stderr",
     "output_type": "stream",
     "text": [
      "* Creating `PracticePackage.Rproj` from template.\n",
      "* Adding `.Rproj.user`, `.Rhistory`, `.RData` to ./.gitignore\n"
     ]
    }
   ],
   "source": [
    "library(\"devtools\")\n",
    "# Change these to suit your needs\n",
    "dir <- '~/MEGA/Teaching/Programming/Courses/Week5/'\n",
    "name <- 'PracticePackage'\n",
    "\n",
    "# Create your package\n",
    "setwd(dir)\n",
    "create(name)"
   ]
  },
  {
   "cell_type": "markdown",
   "metadata": {},
   "source": [
    "This command creates the following file tree:\n",
    "\n",
    "~~~\n",
    "PracticePackage/\n",
    "├── DESCRIPTION\n",
    "├── NAMESPACE\n",
    "├── PracticePackage.Rproj\n",
    "└── R\n",
    "~~~\n",
    "\n",
    "The `create` command gives you only the most bare-bones package structure. You could also use `package.skeleton` in the following way:"
   ]
  },
  {
   "cell_type": "code",
   "execution_count": 11,
   "metadata": {
    "collapsed": false
   },
   "outputs": [
    {
     "name": "stderr",
     "output_type": "stream",
     "text": [
      "Creating directories ...\n",
      "Creating DESCRIPTION ...\n",
      "Creating NAMESPACE ...\n",
      "Creating Read-and-delete-me ...\n",
      "Saving functions and data ...\n",
      "Warning message:\n",
      "In dump(internalObjs, file = file.path(code_dir, sprintf(\"%s-internal.R\", : deparse may be incompleteMaking help files ...\n",
      "Done.\n",
      "Further steps are described in '~/MEGA/Teaching/Programming/Courses/Week5//PracticePackage2/Read-and-delete-me'.\n"
     ]
    }
   ],
   "source": [
    "# Change these to suit your needs\n",
    "dir <- '~/MEGA/Teaching/Programming/Courses/Week5/'\n",
    "name <- 'PracticePackage2'\n",
    "\n",
    "# Create your package\n",
    "package.skeleton(name=name, path=dir)"
   ]
  },
  {
   "cell_type": "markdown",
   "metadata": {},
   "source": [
    "This command gives you the following file structure:\n",
    "~~~\n",
    "PracticePackage2/\n",
    "├── data\n",
    "│   ├── dir.rda\n",
    "│   └── name.rda\n",
    "├── DESCRIPTION\n",
    "├── man\n",
    "│   ├── dir.Rd\n",
    "│   ├── name.Rd\n",
    "│   ├── PracticePackage2-package.Rd\n",
    "│   ├── print_hello_world.Rd\n",
    "│   ├── q.Rd\n",
    "│   └── quit.Rd\n",
    "├── NAMESPACE\n",
    "├── R\n",
    "│   ├── PracticePackage2-internal.R\n",
    "│   ├── print_hello_world.R\n",
    "│   ├── q.R\n",
    "│   └── quit.R\n",
    "└── Read-and-delete-me\n",
    "\n",
    "~~~\n",
    "\n",
    "This seems quite a bit more complex, but is actually relatively simple. Here's a brief description of the structure:\n",
    "* **`data`** contains data-sets which come with the package.\n",
    "* **`DESCRIPTION`** contains information about the package itself.\n",
    "* **`man`** contains help information.\n",
    "* **`NAMESPACE`** contains information about the imports and exports for a package.\n",
    "* **`R`** contains your package code.\n",
    "\n",
    "Ok, we've got our package! Now we need to make it our own. **I'm going to continue working from the bare-bones structure output by `create()`, but you can use the other structure if you'd like.**"
   ]
  },
  {
   "cell_type": "markdown",
   "metadata": {},
   "source": [
    "## Customizing the Package Skeleton\n",
    "\n",
    "The first thing to note is that our package is missing something. We need a `man` folder to hold our help documentation. You can add this using either the **Graphical User Interface (GUI)** of your operating system, or directly in R using the folowing commands: "
   ]
  },
  {
   "cell_type": "code",
   "execution_count": 21,
   "metadata": {
    "collapsed": false
   },
   "outputs": [],
   "source": [
    "dir <- '~/MEGA/Teaching/Programming/Courses/Week5/'\n",
    "name <- 'PracticePackage'\n",
    "dir.create(paste(paste(dir, name, sep=\"\"), \"man\", sep=\"/\"))"
   ]
  },
  {
   "cell_type": "markdown",
   "metadata": {},
   "source": [
    "### The R Functions\n",
    "Next, we want to add our Hello World funciton. Create a `.R`. file titled whatever you like (functions works) and add the following code:"
   ]
  },
  {
   "cell_type": "code",
   "execution_count": 8,
   "metadata": {
    "collapsed": false
   },
   "outputs": [],
   "source": [
    "print_hello_world <- function(){\n",
    "    print(\"Hello World.\")\n",
    "}"
   ]
  },
  {
   "cell_type": "markdown",
   "metadata": {},
   "source": [
    "When you have a more complex package, you can save each individual function in its own file or group similar functionality into individual files. Try to keep things organized!\n",
    "\n",
    "### Documenting Your Functions\n",
    "Since all through this course you've been documenting your functions, this should come naturally. Add the `roxygen2` formatted documentation above your function in the `.R` file you just created:"
   ]
  },
  {
   "cell_type": "code",
   "execution_count": null,
   "metadata": {
    "collapsed": true
   },
   "outputs": [],
   "source": [
    "#' A Hello World Function\n",
    "#'\n",
    "#' This function outpus 'Hello World.' That is all.\n",
    "#' @export\n",
    "#' @examples\n",
    "#' print_hello_world()\n",
    " \n",
    "print_hello_world <- function(){\n",
    "    print(\"Hello World.\")\n",
    "}"
   ]
  },
  {
   "cell_type": "markdown",
   "metadata": {},
   "source": [
    "Now you can process your documentation easily:"
   ]
  },
  {
   "cell_type": "code",
   "execution_count": 9,
   "metadata": {
    "collapsed": false
   },
   "outputs": [
    {
     "name": "stderr",
     "output_type": "stream",
     "text": [
      "Updating PracticePackage documentation\n",
      "Loading PracticePackage\n"
     ]
    }
   ],
   "source": [
    "setwd(paste(dir, name, sep=\"\"))\n",
    "document()"
   ]
  },
  {
   "cell_type": "markdown",
   "metadata": {},
   "source": [
    "### Describing Your Package\n",
    "The last thing to do is fill in the `DESCRIPTION` file. It already has all of the fields, you simply need to fill them in. Here's what mine looks like:\n",
    "~~~\n",
    "Package: PracticePackage\n",
    "Title: A Hello World Package\n",
    "Version: 0.0.0.9000\n",
    "Authors@R: person(\"Tyler\", \"Abbot\", email = \"tyler.abbot@sciencespo.fr\", role = c(\"aut\", \"cre\"))\n",
    "Description: This package teaches students how to create a package from start to finish... well, not really. It was used to do that! All the package does is print Hello World...\n",
    "Depends:\n",
    "    R (>= 3.3.1)\n",
    "License: MIT + file LICENSE\n",
    "Encoding: UTF-8\n",
    "LazyData: true\n",
    "RoxygenNote: 5.0.1\n",
    "~~~"
   ]
  },
  {
   "cell_type": "markdown",
   "metadata": {},
   "source": [
    "This is pretty straight forward, but there are a couple of things you should note:\n",
    "1. The **version** number follows a standard form. `x.y.z.aaaa` is of the form `major.minor.patch.dev`. This is a **development package number** indicating that the package is not released. A **released package number** would be `x.y.z` only. One increments the rightmost number first, incrementing the major number only when large changes have occured (note that R is only at version 3.3.1.\n",
    "2. The **license** determines how others are allowed to use your code. You can see a [list of licenses and what they imply here](http://wiki.civiccommons.org/Choosing_a_License/). I usually use the MIT License because it is one of the least restrictive and does not require any credit from future developers (it's just easier that way). To use the MIT License you also need to include a `LICENSE` file which states\n",
    "~~~\n",
    "YEAR: 2016\n",
    "COPYRIGHT HOLDER: Your Name\n",
    "~~~"
   ]
  },
  {
   "cell_type": "markdown",
   "metadata": {},
   "source": [
    "You're done! You now have a package. Now it's just a question of installing it, sharing it, updating it, testing it, etc.!\n",
    "\n",
    "## Installing Your Package\n",
    "Installation is simple, simply back out of the current working directory (to the parent directory of your package) and run the install command:"
   ]
  },
  {
   "cell_type": "code",
   "execution_count": 10,
   "metadata": {
    "collapsed": false
   },
   "outputs": [
    {
     "name": "stderr",
     "output_type": "stream",
     "text": [
      "Installing PracticePackage\n",
      "'/home/tmabbot/anaconda3/lib64/R/bin/R' --no-site-file --no-environ --no-save  \\\n",
      "  --no-restore --quiet CMD INSTALL  \\\n",
      "  '/home/tmabbot/MEGA/Teaching/Programming/Courses/Week5/PracticePackage'  \\\n",
      "  --library='/home/tmabbot/anaconda3/lib/R/library' --install-tests \n",
      "\n",
      "Reloading installed PracticePackage\n"
     ]
    }
   ],
   "source": [
    "setwd(dir)\n",
    "install(name)"
   ]
  },
  {
   "cell_type": "code",
   "execution_count": 5,
   "metadata": {
    "collapsed": false
   },
   "outputs": [
    {
     "name": "stdout",
     "output_type": "stream",
     "text": [
      "[1] \"Hello World.\"\n"
     ]
    }
   ],
   "source": [
    "print_hello_world()"
   ]
  },
  {
   "cell_type": "markdown",
   "metadata": {},
   "source": [
    "You can even look at the help documenation:"
   ]
  },
  {
   "cell_type": "code",
   "execution_count": 6,
   "metadata": {
    "collapsed": false
   },
   "outputs": [
    {
     "data": {
      "text/html": [
       "\n",
       "<table width=\"100%\" summary=\"page for print_hello_world {PracticePackage}\"><tr><td>print_hello_world {PracticePackage}</td><td style=\"text-align: right;\">R Documentation</td></tr></table>\n",
       "\n",
       "<h2>A Hello World Function</h2>\n",
       "\n",
       "<h3>Description</h3>\n",
       "\n",
       "<p>This function outpus 'Hello World.' That is  all.\n",
       "</p>\n",
       "\n",
       "\n",
       "<h3>Usage</h3>\n",
       "\n",
       "<pre>\n",
       "print_hello_world()\n",
       "</pre>\n",
       "\n",
       "\n",
       "<h3>Examples</h3>\n",
       "\n",
       "<pre>\n",
       "print_hello_world()\n",
       "</pre>\n",
       "\n",
       "<hr /><div style=\"text-align: center;\">[Package <em>PracticePackage</em> version 0.0.0.9000 ]</div>"
      ],
      "text/latex": [
       "\\inputencoding{utf8}\n",
       "\\HeaderA{print\\_hello\\_world}{A Hello World Function}{print.Rul.hello.Rul.world}\n",
       "%\n",
       "\\begin{Description}\\relax\n",
       "This function outpus 'Hello World.' That is  all.\n",
       "\\end{Description}\n",
       "%\n",
       "\\begin{Usage}\n",
       "\\begin{verbatim}\n",
       "print_hello_world()\n",
       "\\end{verbatim}\n",
       "\\end{Usage}\n",
       "%\n",
       "\\begin{Examples}\n",
       "\\begin{ExampleCode}\n",
       "print_hello_world()\n",
       "\\end{ExampleCode}\n",
       "\\end{Examples}"
      ],
      "text/plain": [
       "print_hello_world       package:PracticePackage        R Documentation\n",
       "\n",
       "_\bA _\bH_\be_\bl_\bl_\bo _\bW_\bo_\br_\bl_\bd _\bF_\bu_\bn_\bc_\bt_\bi_\bo_\bn\n",
       "\n",
       "_\bD_\be_\bs_\bc_\br_\bi_\bp_\bt_\bi_\bo_\bn:\n",
       "\n",
       "     This function outpus 'Hello World.' That is all.\n",
       "\n",
       "_\bU_\bs_\ba_\bg_\be:\n",
       "\n",
       "     print_hello_world()\n",
       "     \n",
       "_\bE_\bx_\ba_\bm_\bp_\bl_\be_\bs:\n",
       "\n",
       "     print_hello_world()\n",
       "     "
      ]
     },
     "metadata": {},
     "output_type": "display_data"
    }
   ],
   "source": [
    "?print_hello_world"
   ]
  },
  {
   "cell_type": "markdown",
   "metadata": {},
   "source": [
    "## Testing Your Package\n",
    "One important thing to include in your work is **testing**. This is a way to guarantee the proper functioning of your code. If in the future someone makes changes to the code and it breaks your functions, your testing should warn them that this is happening.\n",
    "\n",
    "To get started, we'll use `devtools` and `testthat` to create a testing directory:"
   ]
  },
  {
   "cell_type": "code",
   "execution_count": 30,
   "metadata": {
    "collapsed": false
   },
   "outputs": [
    {
     "name": "stderr",
     "output_type": "stream",
     "text": [
      "* Adding testthat to Suggests\n",
      "* Creating `tests/testthat`.\n",
      "* Creating `tests/testthat.R` from template.\n"
     ]
    }
   ],
   "source": [
    "setwd(paste(dir, name, sep=\"\"))\n",
    "devtools::use_testthat()"
   ]
  },
  {
   "cell_type": "markdown",
   "metadata": {},
   "source": [
    "This created a directory for your tests and a tests file called `testthat.R`. If you've followed the steps up until now, your package should have the following file structure (just as a check):\n",
    "~~~\n",
    "PracticePackage/\n",
    "├── DESCRIPTION\n",
    "├── man\n",
    "│   └── print_hello_world.Rd\n",
    "├── NAMESPACE\n",
    "├── PracticePackage.Rproj\n",
    "├── R\n",
    "│   └── function.R\n",
    "└── tests\n",
    "    ├── testthat\n",
    "    └── testthat.R\n",
    "~~~\n"
   ]
  },
  {
   "cell_type": "markdown",
   "metadata": {},
   "source": [
    "In terms of writing your test files, this can get really complicated if you go looking around on the internet ([see the documentation here](http://r-pkgs.had.co.nz/tests.html)), but doesn't have to be.\n",
    "\n",
    "A test file does things in a specific order, first reading in the file to test, then running a series of tests. You can keep things organized by writing a single file for each test. For our example, create a file titled `test_print_hello_world.R` in the `tests/testthat` folder.\n",
    "\n",
    "Here's a test file for our function:"
   ]
  },
  {
   "cell_type": "code",
   "execution_count": null,
   "metadata": {
    "collapsed": true
   },
   "outputs": [],
   "source": [
    "# Tell R what you are testing\n",
    "context(\"print_hello_world.R\")\n",
    "\n",
    "#A test function\n",
    "test_that(\"Outputs the correct thing.\",{\n",
    "    expect_match(print_hello_world(), \"Hello World.\")\n",
    "})"
   ]
  },
  {
   "cell_type": "markdown",
   "metadata": {},
   "source": [
    "Now we can run our tests from the R command line:"
   ]
  },
  {
   "cell_type": "code",
   "execution_count": 7,
   "metadata": {
    "collapsed": false
   },
   "outputs": [
    {
     "name": "stderr",
     "output_type": "stream",
     "text": [
      "Loading PracticePackage\n",
      "Loading required package: testthat\n",
      "Testing PracticePackage\n"
     ]
    },
    {
     "name": "stdout",
     "output_type": "stream",
     "text": [
      "print_hello_world.R: [1] \"Hello World.\"\n",
      ".\n",
      "\n",
      "DONE ===========================================================================\n"
     ]
    }
   ],
   "source": [
    "setwd(paste(dir, name, sep=\"\"))\n",
    "devtools::test()"
   ]
  },
  {
   "cell_type": "markdown",
   "metadata": {},
   "source": [
    "We seem to be doing great! Just to see what happens if we don't do things correctly, let's create a test that our package can never pass. Create a new file titled `test_impossible.R` and enter the following:"
   ]
  },
  {
   "cell_type": "code",
   "execution_count": null,
   "metadata": {
    "collapsed": true
   },
   "outputs": [],
   "source": [
    "# Tell R what you are testing\n",
    "context(\"print_hello_world.R\")\n",
    "\n",
    "#A test function\n",
    "test_that(\"Outputs the correct thing.\",{\n",
    "    expect_match(print_hello_world(), \"Thou shalt not pass.\")\n",
    "})"
   ]
  },
  {
   "cell_type": "markdown",
   "metadata": {},
   "source": [
    "Now run the test again:"
   ]
  },
  {
   "cell_type": "code",
   "execution_count": 35,
   "metadata": {
    "collapsed": false
   },
   "outputs": [
    {
     "name": "stderr",
     "output_type": "stream",
     "text": [
      "Loading PracticePackage\n",
      "Testing PracticePackage\n"
     ]
    },
    {
     "name": "stdout",
     "output_type": "stream",
     "text": [
      "print_hello_world.R: [1] \"Hello World.\"\n",
      "1\n",
      "print_hello_world.R: [1] \"Hello World.\"\n",
      ".\n",
      "\n",
      "Failed -------------------------------------------------------------------------\n",
      "1. Failure: Outputs the correct thing. (@test_impossible.R#6) ------------------\n",
      "print_hello_world() does not match \"Thou shalt not pass.\".\n",
      "Actual value: \"Hello World.\"\n",
      "\n",
      "\n",
      "DONE ===========================================================================\n"
     ]
    }
   ],
   "source": [
    "setwd(paste(dir, name, sep=\"\"))\n",
    "devtools::test()"
   ]
  },
  {
   "cell_type": "markdown",
   "metadata": {},
   "source": [
    "Our test works!!!! We are all that is programmer! Ok, delete that file and let's move on.\n",
    "\n",
    "## Building Your Package\n",
    "\n",
    "Essentially the last step before submitting your package to CRAN is to build it and check it."
   ]
  },
  {
   "cell_type": "code",
   "execution_count": 11,
   "metadata": {
    "collapsed": false
   },
   "outputs": [
    {
     "name": "stderr",
     "output_type": "stream",
     "text": [
      "'/home/tmabbot/anaconda3/lib64/R/bin/R' --no-site-file --no-environ --no-save  \\\n",
      "  --no-restore --quiet CMD build  \\\n",
      "  '/home/tmabbot/MEGA/Teaching/Programming/Courses/Week5/PracticePackage'  \\\n",
      "  --no-resave-data --no-manual \n",
      "\n"
     ]
    },
    {
     "data": {
      "text/html": [
       "'/home/tmabbot/MEGA/Teaching/Programming/Courses/Week5/PracticePackage_0.0.0.9000.tar.gz'"
      ],
      "text/latex": [
       "'/home/tmabbot/MEGA/Teaching/Programming/Courses/Week5/PracticePackage\\_0.0.0.9000.tar.gz'"
      ],
      "text/markdown": [
       "'/home/tmabbot/MEGA/Teaching/Programming/Courses/Week5/PracticePackage_0.0.0.9000.tar.gz'"
      ],
      "text/plain": [
       "[1] \"/home/tmabbot/MEGA/Teaching/Programming/Courses/Week5/PracticePackage_0.0.0.9000.tar.gz\""
      ]
     },
     "metadata": {},
     "output_type": "display_data"
    }
   ],
   "source": [
    "setwd(paste(dir, name, sep=\"\"))\n",
    "build()"
   ]
  },
  {
   "cell_type": "markdown",
   "metadata": {},
   "source": [
    "The `build` command creates a zip file (a \"tar ball\" to be exact) containing your package. Now to check the package you need to go to the command line, cd into the correct directory, and run the following:\n",
    "~~~\n",
    "R CMD check PracticePackage_0.0.0.9000.tar.gz --as-cran\n",
    "~~~\n",
    "You will almost surely have problems with this the first time you run it. Have patience and work through them. This is what programming is all about!\n",
    "\n",
    "![up late](no_sleep.jpg)\n",
    "\n",
    "Now that you are done, you should end up with a single warning:\n",
    "~~~\n",
    "Version contains large components...\n",
    "~~~\n",
    "This is driven by our development version number, shange this to whatever version you want and you are good to go!"
   ]
  },
  {
   "cell_type": "markdown",
   "metadata": {},
   "source": [
    "## Publishing Your Code\n",
    "The reason we ran our check with the option `--as-cran` was because our ultimate goal should be to publish the package on their database. This would allow users to install it using the `install.packages()` command and make us incredibly popular and famous.\n",
    "\n",
    "Sadly, our package is far too simple to publish and the archive administrators would laugh us out of work (although we are unpaid, so that's not a huge loss).\n",
    "\n",
    "The instructions for submitting are at the bottom of the [CRAN home page](https://cran.r-project.org/). You should submit at least one package during your life, so get on it! Maybe your semester project will suffice."
   ]
  },
  {
   "cell_type": "markdown",
   "metadata": {},
   "source": [
    "## Collaboration\n",
    "Now that you know how packages are made and how to build them, you should consider collaborating. This is most often done using Github, which you should be getting familiar with. The homework will help you to undertand [the workflow](https://guides.github.com/introduction/flow/), but here's a brief outline of how things work:\n",
    "\n",
    "1. You find a project you would like to contribut to. Either you are amazingly talented and they can't exist without you or vice versa (but we all know it's the former).\n",
    "2. You **create a branch** from the master branch. Do this by cloning the repository. This will be a **fork**, on which you can make changes.\n",
    "3. Make your changes, **commiting** them often. The more commits and the better your commit messages, the easier it will be to follow your changes.\n",
    "4. Open a **pull request**. This asks the owner of the master branch to merge your changes to their version.\n",
    "5. Make any changes the owner wants.\n",
    "6. **Merge** your branch to the master branch.\n",
    "\n",
    "In order to finish the homework, you'll need to carry out all of these steps (or WE will)."
   ]
  },
  {
   "cell_type": "markdown",
   "metadata": {},
   "source": [
    "## Conclusion\n",
    "That's it! You now know how to create packages and deploy them to CRAN and Github. We should have covered the following:\n",
    "1. Discuss code modularity and packages.\n",
    "2. Discuss neat packages that are available.\n",
    "3. Discuss the benefits of creating your own packages.\n",
    "4. Learn how to create a package from start to finish.\n",
    "5. Learn how to publish your code.\n",
    "6. Learn about collaboration using Github.\n",
    "\n",
    "# Homework:\n",
    "\n",
    "1. I've created a folder called \"class_packs\" in the Week5 folder of the course repo into which you will put your responses, so be sure to sync your local repo!\n",
    "2. Create a blank package using your preffered method within your own, personal local repository.\n",
    "3. Set up this package to run whatever function you want. I would prefer it be a different function than the one from class. Be sure to document your function.\n",
    "5. Choose a license and fill in the `DESCRIPTION` file.\n",
    "6. Generate the documentation using the `document()` command.\n",
    "7. Install your package and make sure it works.\n",
    "10. Push the changes to your own repo.\n",
    "11. Copy and paste your package into the \"class_packs\" folder. 12. Add and commit your changes to the course repository.\n",
    "13. Now open a <a href=\"https://help.github.com/articles/creating-a-pull-request/\" target=\"_blank\">pull request</a> and I will merge your changes into the library! **NOTE:** This may be troublesome at first, as we haven't done it yet, but it is pretty straight forward!"
   ]
  }
 ],
 "metadata": {
  "kernelspec": {
   "display_name": "R",
   "language": "R",
   "name": "ir"
  },
  "language_info": {
   "codemirror_mode": "r",
   "file_extension": ".r",
   "mimetype": "text/x-r-source",
   "name": "R",
   "pygments_lexer": "r",
   "version": "3.3.1"
  }
 },
 "nbformat": 4,
 "nbformat_minor": 0
}
