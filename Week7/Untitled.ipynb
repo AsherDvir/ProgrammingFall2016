{
 "cells": [
  {
   "cell_type": "code",
   "execution_count": 24,
   "metadata": {
    "collapsed": false
   },
   "outputs": [],
   "source": [
    "mydir <- \"C:/Users/Fabia/ProgrammingFall2016/Week7/\"\n",
    "data_SPY <- read.csv(paste0(mydir, \"SPY.csv\"))\n",
    "data_GDX <- read.csv(paste0(mydir, \"GOLD.csv\"))\n",
    "\n"
   ]
  },
  {
   "cell_type": "code",
   "execution_count": 10,
   "metadata": {
    "collapsed": false
   },
   "outputs": [
    {
     "data": {
      "text/html": [
       "\"data.frame\""
      ],
      "text/latex": [
       "\"data.frame\""
      ],
      "text/markdown": [
       "\"data.frame\""
      ],
      "text/plain": [
       "[1] \"data.frame\""
      ]
     },
     "metadata": {},
     "output_type": "display_data"
    }
   ],
   "source": [
    "class(data_SPY) #see what kind of data it is "
   ]
  },
  {
   "cell_type": "code",
   "execution_count": 13,
   "metadata": {
    "collapsed": false
   },
   "outputs": [
    {
     "data": {
      "text/html": [
       "<ol class=list-inline>\n",
       "\t<li>\"1\"</li>\n",
       "\t<li>\"2\"</li>\n",
       "\t<li>\"3\"</li>\n",
       "\t<li>\"4\"</li>\n",
       "\t<li>\"5\"</li>\n",
       "\t<li>\"6\"</li>\n",
       "\t<li>\"7\"</li>\n",
       "\t<li>\"8\"</li>\n",
       "\t<li>\"9\"</li>\n",
       "\t<li>\"10\"</li>\n",
       "\t<li>\"11\"</li>\n",
       "\t<li>\"12\"</li>\n",
       "\t<li>\"13\"</li>\n",
       "\t<li>\"14\"</li>\n",
       "\t<li>\"15\"</li>\n",
       "\t<li>\"16\"</li>\n",
       "\t<li>\"17\"</li>\n",
       "\t<li>\"18\"</li>\n",
       "\t<li>\"19\"</li>\n",
       "\t<li>\"20\"</li>\n",
       "\t<li>\"21\"</li>\n",
       "\t<li>\"22\"</li>\n",
       "</ol>\n"
      ],
      "text/latex": [
       "\\begin{enumerate*}\n",
       "\\item \"1\"\n",
       "\\item \"2\"\n",
       "\\item \"3\"\n",
       "\\item \"4\"\n",
       "\\item \"5\"\n",
       "\\item \"6\"\n",
       "\\item \"7\"\n",
       "\\item \"8\"\n",
       "\\item \"9\"\n",
       "\\item \"10\"\n",
       "\\item \"11\"\n",
       "\\item \"12\"\n",
       "\\item \"13\"\n",
       "\\item \"14\"\n",
       "\\item \"15\"\n",
       "\\item \"16\"\n",
       "\\item \"17\"\n",
       "\\item \"18\"\n",
       "\\item \"19\"\n",
       "\\item \"20\"\n",
       "\\item \"21\"\n",
       "\\item \"22\"\n",
       "\\end{enumerate*}\n"
      ],
      "text/markdown": [
       "1. \"1\"\n",
       "2. \"2\"\n",
       "3. \"3\"\n",
       "4. \"4\"\n",
       "5. \"5\"\n",
       "6. \"6\"\n",
       "7. \"7\"\n",
       "8. \"8\"\n",
       "9. \"9\"\n",
       "10. \"10\"\n",
       "11. \"11\"\n",
       "12. \"12\"\n",
       "13. \"13\"\n",
       "14. \"14\"\n",
       "15. \"15\"\n",
       "16. \"16\"\n",
       "17. \"17\"\n",
       "18. \"18\"\n",
       "19. \"19\"\n",
       "20. \"20\"\n",
       "21. \"21\"\n",
       "22. \"22\"\n",
       "\n",
       "\n"
      ],
      "text/plain": [
       " [1] \"1\"  \"2\"  \"3\"  \"4\"  \"5\"  \"6\"  \"7\"  \"8\"  \"9\"  \"10\" \"11\" \"12\" \"13\" \"14\" \"15\"\n",
       "[16] \"16\" \"17\" \"18\" \"19\" \"20\" \"21\" \"22\""
      ]
     },
     "metadata": {},
     "output_type": "display_data"
    },
    {
     "data": {
      "text/html": [
       "<ol class=list-inline>\n",
       "\t<li>\"Date\"</li>\n",
       "\t<li>\"Open\"</li>\n",
       "\t<li>\"High\"</li>\n",
       "\t<li>\"Low\"</li>\n",
       "\t<li>\"Close\"</li>\n",
       "\t<li>\"Volume\"</li>\n",
       "\t<li>\"Adj.Close\"</li>\n",
       "</ol>\n"
      ],
      "text/latex": [
       "\\begin{enumerate*}\n",
       "\\item \"Date\"\n",
       "\\item \"Open\"\n",
       "\\item \"High\"\n",
       "\\item \"Low\"\n",
       "\\item \"Close\"\n",
       "\\item \"Volume\"\n",
       "\\item \"Adj.Close\"\n",
       "\\end{enumerate*}\n"
      ],
      "text/markdown": [
       "1. \"Date\"\n",
       "2. \"Open\"\n",
       "3. \"High\"\n",
       "4. \"Low\"\n",
       "5. \"Close\"\n",
       "6. \"Volume\"\n",
       "7. \"Adj.Close\"\n",
       "\n",
       "\n"
      ],
      "text/plain": [
       "[1] \"Date\"      \"Open\"      \"High\"      \"Low\"       \"Close\"     \"Volume\"   \n",
       "[7] \"Adj.Close\""
      ]
     },
     "metadata": {},
     "output_type": "display_data"
    }
   ],
   "source": [
    "rownames(data_SPY)\n",
    "colnames(data_SPY)"
   ]
  },
  {
   "cell_type": "code",
   "execution_count": 17,
   "metadata": {
    "collapsed": false
   },
   "outputs": [
    {
     "data": {
      "text/html": [
       "<ol class=list-inline>\n",
       "\t<li>2016-10-13</li>\n",
       "\t<li>2016-10-12</li>\n",
       "\t<li>2016-10-11</li>\n",
       "\t<li>2016-10-10</li>\n",
       "\t<li>2016-10-07</li>\n",
       "\t<li>2016-10-06</li>\n",
       "\t<li>2016-10-05</li>\n",
       "\t<li>2016-10-04</li>\n",
       "\t<li>2016-10-03</li>\n",
       "\t<li>2016-09-30</li>\n",
       "\t<li>2016-09-29</li>\n",
       "\t<li>2016-09-28</li>\n",
       "\t<li>2016-09-27</li>\n",
       "\t<li>2016-09-26</li>\n",
       "\t<li>2016-09-23</li>\n",
       "\t<li>2016-09-22</li>\n",
       "\t<li>2016-09-21</li>\n",
       "\t<li>2016-09-20</li>\n",
       "\t<li>2016-09-19</li>\n",
       "\t<li>2016-09-16</li>\n",
       "\t<li>2016-09-15</li>\n",
       "\t<li>2016-09-14</li>\n",
       "</ol>\n"
      ],
      "text/latex": [
       "\\begin{enumerate*}\n",
       "\\item 2016-10-13\n",
       "\\item 2016-10-12\n",
       "\\item 2016-10-11\n",
       "\\item 2016-10-10\n",
       "\\item 2016-10-07\n",
       "\\item 2016-10-06\n",
       "\\item 2016-10-05\n",
       "\\item 2016-10-04\n",
       "\\item 2016-10-03\n",
       "\\item 2016-09-30\n",
       "\\item 2016-09-29\n",
       "\\item 2016-09-28\n",
       "\\item 2016-09-27\n",
       "\\item 2016-09-26\n",
       "\\item 2016-09-23\n",
       "\\item 2016-09-22\n",
       "\\item 2016-09-21\n",
       "\\item 2016-09-20\n",
       "\\item 2016-09-19\n",
       "\\item 2016-09-16\n",
       "\\item 2016-09-15\n",
       "\\item 2016-09-14\n",
       "\\end{enumerate*}\n"
      ],
      "text/markdown": [
       "1. 2016-10-13\n",
       "2. 2016-10-12\n",
       "3. 2016-10-11\n",
       "4. 2016-10-10\n",
       "5. 2016-10-07\n",
       "6. 2016-10-06\n",
       "7. 2016-10-05\n",
       "8. 2016-10-04\n",
       "9. 2016-10-03\n",
       "10. 2016-09-30\n",
       "11. 2016-09-29\n",
       "12. 2016-09-28\n",
       "13. 2016-09-27\n",
       "14. 2016-09-26\n",
       "15. 2016-09-23\n",
       "16. 2016-09-22\n",
       "17. 2016-09-21\n",
       "18. 2016-09-20\n",
       "19. 2016-09-19\n",
       "20. 2016-09-16\n",
       "21. 2016-09-15\n",
       "22. 2016-09-14\n",
       "\n",
       "\n"
      ],
      "text/plain": [
       " [1] 2016-10-13 2016-10-12 2016-10-11 2016-10-10 2016-10-07 2016-10-06\n",
       " [7] 2016-10-05 2016-10-04 2016-10-03 2016-09-30 2016-09-29 2016-09-28\n",
       "[13] 2016-09-27 2016-09-26 2016-09-23 2016-09-22 2016-09-21 2016-09-20\n",
       "[19] 2016-09-19 2016-09-16 2016-09-15 2016-09-14\n",
       "22 Levels: 2016-09-14 2016-09-15 2016-09-16 2016-09-19 ... 2016-10-13"
      ]
     },
     "metadata": {},
     "output_type": "display_data"
    },
    {
     "data": {
      "text/html": [
       "<table>\n",
       "<thead><tr><th></th><th scope=col>Date</th><th scope=col>Open</th><th scope=col>High</th><th scope=col>Low</th><th scope=col>Close</th><th scope=col>Volume</th><th scope=col>Adj.Close</th></tr></thead>\n",
       "<tbody>\n",
       "\t<tr><th scope=row>1</th><td>2016-10-13</td><td>212.16</td><td>213.59</td><td>211.21</td><td>213.01</td><td>99120600</td><td>213.01</td></tr>\n",
       "</tbody>\n",
       "</table>\n"
      ],
      "text/latex": [
       "\\begin{tabular}{r|lllllll}\n",
       "  & Date & Open & High & Low & Close & Volume & Adj.Close\\\\\n",
       "\\hline\n",
       "\t1 & 2016-10-13 & 212.16 & 213.59 & 211.21 & 213.01 & 99120600 & 213.01\\\\\n",
       "\\end{tabular}\n"
      ],
      "text/plain": [
       "        Date   Open   High    Low  Close   Volume Adj.Close\n",
       "1 2016-10-13 212.16 213.59 211.21 213.01 99120600    213.01"
      ]
     },
     "metadata": {},
     "output_type": "display_data"
    }
   ],
   "source": [
    "data_SPY$Date # referencing certain numbers\n",
    "data_SPY[1,]"
   ]
  },
  {
   "cell_type": "code",
   "execution_count": 20,
   "metadata": {
    "collapsed": false
   },
   "outputs": [
    {
     "data": {
      "text/html": [
       "<table>\n",
       "<thead><tr><th></th><th scope=col>Date</th><th scope=col>Open</th><th scope=col>High</th><th scope=col>Low</th><th scope=col>Close</th><th scope=col>Volume</th><th scope=col>Adj.Close</th><th scope=col>r</th></tr></thead>\n",
       "<tbody>\n",
       "\t<tr><th scope=row>1</th><td>2016-10-13</td><td>212.16</td><td>213.59</td><td>211.21</td><td>213.01</td><td>99120600</td><td>213.01</td><td>0</td></tr>\n",
       "\t<tr><th scope=row>2</th><td>2016-10-12</td><td>213.59</td><td>214.32</td><td>213.01</td><td>213.71</td><td>73866100</td><td>213.71</td><td>0</td></tr>\n",
       "\t<tr><th scope=row>3</th><td>2016-10-11</td><td>215.66</td><td>215.74</td><td>212.58</td><td>213.43</td><td>130367400</td><td>213.43</td><td>0</td></tr>\n",
       "\t<tr><th scope=row>4</th><td>2016-10-10</td><td>216.16</td><td>216.7</td><td>215.99</td><td>216.16</td><td>51855000</td><td>216.16</td><td>0</td></tr>\n",
       "\t<tr><th scope=row>5</th><td>2016-10-07</td><td>216.1</td><td>216.3</td><td>214.19</td><td>215.04</td><td>89788300</td><td>215.04</td><td>0</td></tr>\n",
       "\t<tr><th scope=row>6</th><td>2016-10-06</td><td>215.37</td><td>216.04</td><td>214.74</td><td>215.78</td><td>62927400</td><td>215.78</td><td>0</td></tr>\n",
       "</tbody>\n",
       "</table>\n"
      ],
      "text/latex": [
       "\\begin{tabular}{r|llllllll}\n",
       "  & Date & Open & High & Low & Close & Volume & Adj.Close & r\\\\\n",
       "\\hline\n",
       "\t1 & 2016-10-13 & 212.16 & 213.59 & 211.21 & 213.01 & 99120600 & 213.01 & 0\\\\\n",
       "\t2 & 2016-10-12 & 213.59 & 214.32 & 213.01 & 213.71 & 73866100 & 213.71 & 0\\\\\n",
       "\t3 & 2016-10-11 & 215.66 & 215.74 & 212.58 & 213.43 & 130367400 & 213.43 & 0\\\\\n",
       "\t4 & 2016-10-10 & 216.16 & 216.7 & 215.99 & 216.16 & 51855000 & 216.16 & 0\\\\\n",
       "\t5 & 2016-10-07 & 216.1 & 216.3 & 214.19 & 215.04 & 89788300 & 215.04 & 0\\\\\n",
       "\t6 & 2016-10-06 & 215.37 & 216.04 & 214.74 & 215.78 & 62927400 & 215.78 & 0\\\\\n",
       "\\end{tabular}\n"
      ],
      "text/plain": [
       "        Date   Open   High    Low  Close    Volume Adj.Close r\n",
       "1 2016-10-13 212.16 213.59 211.21 213.01  99120600    213.01 0\n",
       "2 2016-10-12 213.59 214.32 213.01 213.71  73866100    213.71 0\n",
       "3 2016-10-11 215.66 215.74 212.58 213.43 130367400    213.43 0\n",
       "4 2016-10-10 216.16 216.70 215.99 216.16  51855000    216.16 0\n",
       "5 2016-10-07 216.10 216.30 214.19 215.04  89788300    215.04 0\n",
       "6 2016-10-06 215.37 216.04 214.74 215.78  62927400    215.78 0"
      ]
     },
     "metadata": {},
     "output_type": "display_data"
    }
   ],
   "source": [
    "data_SPY$r <- 0 #add a new column\n",
    "data_GDX$r <- 0\n",
    "head(data_SPY) # good function for checking out the first rows"
   ]
  },
  {
   "cell_type": "code",
   "execution_count": 27,
   "metadata": {
    "collapsed": false
   },
   "outputs": [
    {
     "name": "stderr",
     "output_type": "stream",
     "text": [
      "Warning message:\n",
      "In data_SPY$r[2:1] <- (data_SPY[1:n - 1, \"Adj.Close\"] - data_SPY[2:n, : Anzahl der zu ersetzenden Elemente ist kein Vielfaches der Ersetzungslänge"
     ]
    }
   ],
   "source": [
    "# we are trying to find the change in terms of percentages r= P_t+1 - P_t / (P_t)\n",
    "data_SPY$r <- (data_SPY[1, 'Adj.Close'] - data_SPY[2, 'Adj.Close'])/data_SPY[2, 'Adj.Close'] # do it for the first entry\n",
    "data_SPY$r <- (data_SPY[1:2, 'Adj.Close'] - data_SPY[2:3, 'Adj.Close'])/data_SPY[2:3, 'Adj.Close'] # do it for two entries\n",
    "\n",
    "n <- dim(data_SPY)[1]\n",
    "#data_SPY$r <- (data_SPY[1:n-1, 'Adj.Close'] - data_SPY[2:n, 'Adj.Close'])/data_SPY[2:n, 'Adj.Close']\n",
    "# but only fill the 21 one after the first row\n",
    "data_SPY$r[2:1] <- (data_SPY[1:n-1, 'Adj.Close'] - data_SPY[2:n, 'Adj.Close'])/data_SPY[2:n, 'Adj.Close']\n",
    "data_SPY$r[1] <- NA"
   ]
  },
  {
   "cell_type": "code",
   "execution_count": null,
   "metadata": {
    "collapsed": true
   },
   "outputs": [],
   "source": []
  }
 ],
 "metadata": {
  "anaconda-cloud": {},
  "kernelspec": {
   "display_name": "R",
   "language": "R",
   "name": "ir"
  },
  "language_info": {
   "codemirror_mode": "r",
   "file_extension": ".r",
   "mimetype": "text/x-r-source",
   "name": "R",
   "pygments_lexer": "r",
   "version": "3.3.1"
  }
 },
 "nbformat": 4,
 "nbformat_minor": 0
}
