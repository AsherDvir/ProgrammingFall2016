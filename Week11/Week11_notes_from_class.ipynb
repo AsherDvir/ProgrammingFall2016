{
 "cells": [
  {
   "cell_type": "code",
   "execution_count": 1,
   "metadata": {
    "collapsed": false
   },
   "outputs": [
    {
     "name": "stdout",
     "output_type": "stream",
     "text": [
      "The Zen of Python, by Tim Peters\n",
      "\n",
      "Beautiful is better than ugly.\n",
      "Explicit is better than implicit.\n",
      "Simple is better than complex.\n",
      "Complex is better than complicated.\n",
      "Flat is better than nested.\n",
      "Sparse is better than dense.\n",
      "Readability counts.\n",
      "Special cases aren't special enough to break the rules.\n",
      "Although practicality beats purity.\n",
      "Errors should never pass silently.\n",
      "Unless explicitly silenced.\n",
      "In the face of ambiguity, refuse the temptation to guess.\n",
      "There should be one-- and preferably only one --obvious way to do it.\n",
      "Although that way may not be obvious at first unless you're Dutch.\n",
      "Now is better than never.\n",
      "Although never is often better than *right* now.\n",
      "If the implementation is hard to explain, it's a bad idea.\n",
      "If the implementation is easy to explain, it may be a good idea.\n",
      "Namespaces are one honking great idea -- let's do more of those!\n"
     ]
    }
   ],
   "source": [
    "import this"
   ]
  },
  {
   "cell_type": "code",
   "execution_count": 3,
   "metadata": {
    "collapsed": false
   },
   "outputs": [
    {
     "data": {
      "text/plain": [
       "[]"
      ]
     },
     "execution_count": 3,
     "metadata": {},
     "output_type": "execute_result"
    }
   ],
   "source": [
    "x = []\n",
    "x"
   ]
  },
  {
   "cell_type": "code",
   "execution_count": 4,
   "metadata": {
    "collapsed": true
   },
   "outputs": [],
   "source": [
    "x = [1, 2, 3]"
   ]
  },
  {
   "cell_type": "code",
   "execution_count": 5,
   "metadata": {
    "collapsed": false
   },
   "outputs": [
    {
     "data": {
      "text/plain": [
       "[1, 2, 3]"
      ]
     },
     "execution_count": 5,
     "metadata": {},
     "output_type": "execute_result"
    }
   ],
   "source": [
    "x"
   ]
  },
  {
   "cell_type": "code",
   "execution_count": 6,
   "metadata": {
    "collapsed": false
   },
   "outputs": [
    {
     "data": {
      "text/plain": [
       "2"
      ]
     },
     "execution_count": 6,
     "metadata": {},
     "output_type": "execute_result"
    }
   ],
   "source": [
    "x[1]"
   ]
  },
  {
   "cell_type": "code",
   "execution_count": 7,
   "metadata": {
    "collapsed": false
   },
   "outputs": [
    {
     "data": {
      "text/plain": [
       "1"
      ]
     },
     "execution_count": 7,
     "metadata": {},
     "output_type": "execute_result"
    }
   ],
   "source": [
    "x[0]"
   ]
  },
  {
   "cell_type": "code",
   "execution_count": 10,
   "metadata": {
    "collapsed": false
   },
   "outputs": [],
   "source": [
    "x = [[1, 2], [3, 4]]"
   ]
  },
  {
   "cell_type": "code",
   "execution_count": 11,
   "metadata": {
    "collapsed": false
   },
   "outputs": [
    {
     "data": {
      "text/plain": [
       "[[1, 2], [3, 4]]"
      ]
     },
     "execution_count": 11,
     "metadata": {},
     "output_type": "execute_result"
    }
   ],
   "source": [
    "x"
   ]
  },
  {
   "cell_type": "code",
   "execution_count": 14,
   "metadata": {
    "collapsed": false
   },
   "outputs": [
    {
     "data": {
      "text/plain": [
       "1"
      ]
     },
     "execution_count": 14,
     "metadata": {},
     "output_type": "execute_result"
    }
   ],
   "source": [
    "x[0][0]"
   ]
  },
  {
   "cell_type": "code",
   "execution_count": 48,
   "metadata": {
    "collapsed": true
   },
   "outputs": [],
   "source": [
    "x = [1, 'one']"
   ]
  },
  {
   "cell_type": "code",
   "execution_count": 49,
   "metadata": {
    "collapsed": false
   },
   "outputs": [
    {
     "data": {
      "text/plain": [
       "[1, 'one']"
      ]
     },
     "execution_count": 49,
     "metadata": {},
     "output_type": "execute_result"
    }
   ],
   "source": [
    "x"
   ]
  },
  {
   "cell_type": "code",
   "execution_count": 50,
   "metadata": {
    "collapsed": false
   },
   "outputs": [],
   "source": [
    "for i in range(0, 10):\n",
    "    x.append(i)\n"
   ]
  },
  {
   "cell_type": "code",
   "execution_count": 51,
   "metadata": {
    "collapsed": false
   },
   "outputs": [
    {
     "data": {
      "text/plain": [
       "[1, 'one', 0, 1, 2, 3, 4, 5, 6, 7, 8, 9]"
      ]
     },
     "execution_count": 51,
     "metadata": {},
     "output_type": "execute_result"
    }
   ],
   "source": [
    "x"
   ]
  },
  {
   "cell_type": "code",
   "execution_count": 52,
   "metadata": {
    "collapsed": false,
    "scrolled": true
   },
   "outputs": [
    {
     "ename": "TypeError",
     "evalue": "unsupported operand type(s) for +: 'int' and 'str'",
     "output_type": "error",
     "traceback": [
      "\u001b[0;31m---------------------------------------------------------------------------\u001b[0m",
      "\u001b[0;31mTypeError\u001b[0m                                 Traceback (most recent call last)",
      "\u001b[0;32m<ipython-input-52-41239fb663a7>\u001b[0m in \u001b[0;36m<module>\u001b[0;34m()\u001b[0m\n\u001b[0;32m----> 1\u001b[0;31m \u001b[0msum\u001b[0m\u001b[0;34m(\u001b[0m\u001b[0mx\u001b[0m\u001b[0;34m)\u001b[0m\u001b[0;34m\u001b[0m\u001b[0m\n\u001b[0m",
      "\u001b[0;31mTypeError\u001b[0m: unsupported operand type(s) for +: 'int' and 'str'"
     ]
    }
   ],
   "source": [
    "sum(x)"
   ]
  },
  {
   "cell_type": "code",
   "execution_count": 53,
   "metadata": {
    "collapsed": false
   },
   "outputs": [
    {
     "name": "stdout",
     "output_type": "stream",
     "text": [
      "[1, 'one', 0, 1, 2, 3, 4, 5, 6, 7, 8]\n",
      "[9]\n",
      "[1, 'one', 0, 1, 2, 3, 4, 5, 6, 7]\n",
      "[9, 8]\n",
      "[1, 'one', 0, 1, 2, 3, 4, 5, 6]\n",
      "[9, 8, 7]\n",
      "[1, 'one', 0, 1, 2, 3, 4, 5]\n",
      "[9, 8, 7, 6]\n",
      "[1, 'one', 0, 1, 2, 3, 4]\n",
      "[9, 8, 7, 6, 5]\n",
      "[1, 'one', 0, 1, 2, 3]\n",
      "[9, 8, 7, 6, 5, 4]\n",
      "[1, 'one', 0, 1, 2]\n",
      "[9, 8, 7, 6, 5, 4, 3]\n",
      "[1, 'one', 0, 1]\n",
      "[9, 8, 7, 6, 5, 4, 3, 2]\n",
      "[1, 'one', 0]\n",
      "[9, 8, 7, 6, 5, 4, 3, 2, 1]\n",
      "[1, 'one']\n",
      "[9, 8, 7, 6, 5, 4, 3, 2, 1, 0]\n"
     ]
    }
   ],
   "source": [
    "z = []\n",
    "for i in range(0, 10):\n",
    "    z.append(x.pop())\n",
    "    print(x)\n",
    "    print(z)"
   ]
  },
  {
   "cell_type": "code",
   "execution_count": 22,
   "metadata": {
    "collapsed": false
   },
   "outputs": [
    {
     "data": {
      "text/plain": [
       "[1, 2, 3, 4, 5, 6]"
      ]
     },
     "execution_count": 22,
     "metadata": {},
     "output_type": "execute_result"
    }
   ],
   "source": [
    "x = [1, 2, 3]\n",
    "y = [4, 5, 6]\n",
    "x + y"
   ]
  },
  {
   "cell_type": "code",
   "execution_count": 54,
   "metadata": {
    "collapsed": false
   },
   "outputs": [
    {
     "data": {
      "text/plain": [
       "[9, 8, 7, 6, 5, 4, 3, 2, 1, 0]"
      ]
     },
     "execution_count": 54,
     "metadata": {},
     "output_type": "execute_result"
    }
   ],
   "source": [
    "z"
   ]
  },
  {
   "cell_type": "code",
   "execution_count": 55,
   "metadata": {
    "collapsed": false
   },
   "outputs": [
    {
     "name": "stdout",
     "output_type": "stream",
     "text": [
      "9\n",
      "8\n",
      "7\n",
      "6\n",
      "5\n",
      "4\n",
      "3\n",
      "2\n",
      "1\n",
      "0\n"
     ]
    }
   ],
   "source": [
    "for Z in z:\n",
    "    print(Z)"
   ]
  },
  {
   "cell_type": "code",
   "execution_count": 56,
   "metadata": {
    "collapsed": true
   },
   "outputs": [],
   "source": [
    "s = \"im a string\""
   ]
  },
  {
   "cell_type": "code",
   "execution_count": 57,
   "metadata": {
    "collapsed": false
   },
   "outputs": [
    {
     "data": {
      "text/plain": [
       "'im a string'"
      ]
     },
     "execution_count": 57,
     "metadata": {},
     "output_type": "execute_result"
    }
   ],
   "source": [
    "s"
   ]
  },
  {
   "cell_type": "code",
   "execution_count": 58,
   "metadata": {
    "collapsed": true
   },
   "outputs": [],
   "source": [
    "S = 'IM ALSO A STRING'"
   ]
  },
  {
   "cell_type": "code",
   "execution_count": 59,
   "metadata": {
    "collapsed": false
   },
   "outputs": [
    {
     "data": {
      "text/plain": [
       "'IM ALSO A STRING'"
      ]
     },
     "execution_count": 59,
     "metadata": {},
     "output_type": "execute_result"
    }
   ],
   "source": [
    "S"
   ]
  },
  {
   "cell_type": "code",
   "execution_count": 60,
   "metadata": {
    "collapsed": false
   },
   "outputs": [
    {
     "data": {
      "text/plain": [
       "'i'"
      ]
     },
     "execution_count": 60,
     "metadata": {},
     "output_type": "execute_result"
    }
   ],
   "source": [
    "s[0]"
   ]
  },
  {
   "cell_type": "code",
   "execution_count": 61,
   "metadata": {
    "collapsed": false
   },
   "outputs": [
    {
     "name": "stdout",
     "output_type": "stream",
     "text": [
      "I\n",
      "M\n",
      " \n",
      "A\n",
      "L\n",
      "S\n",
      "O\n",
      " \n",
      "A\n",
      " \n",
      "S\n",
      "T\n",
      "R\n",
      "I\n",
      "N\n",
      "G\n"
     ]
    }
   ],
   "source": [
    "for i in S:\n",
    "    print(i)"
   ]
  },
  {
   "cell_type": "code",
   "execution_count": 63,
   "metadata": {
    "collapsed": false
   },
   "outputs": [
    {
     "data": {
      "text/plain": [
       "'im also a string'"
      ]
     },
     "execution_count": 63,
     "metadata": {},
     "output_type": "execute_result"
    }
   ],
   "source": [
    "S.lower()"
   ]
  },
  {
   "cell_type": "code",
   "execution_count": 65,
   "metadata": {
    "collapsed": false
   },
   "outputs": [
    {
     "ename": "TypeError",
     "evalue": "'str' object does not support item assignment",
     "output_type": "error",
     "traceback": [
      "\u001b[0;31m---------------------------------------------------------------------------\u001b[0m",
      "\u001b[0;31mTypeError\u001b[0m                                 Traceback (most recent call last)",
      "\u001b[0;32m<ipython-input-65-aa5321904f01>\u001b[0m in \u001b[0;36m<module>\u001b[0;34m()\u001b[0m\n\u001b[0;32m----> 1\u001b[0;31m \u001b[0ms\u001b[0m\u001b[0;34m[\u001b[0m\u001b[0;36m0\u001b[0m\u001b[0;34m]\u001b[0m \u001b[0;34m=\u001b[0m \u001b[0;34m'I'\u001b[0m\u001b[0;34m\u001b[0m\u001b[0m\n\u001b[0m",
      "\u001b[0;31mTypeError\u001b[0m: 'str' object does not support item assignment"
     ]
    }
   ],
   "source": [
    "s[0] = 'I'"
   ]
  },
  {
   "cell_type": "code",
   "execution_count": 66,
   "metadata": {
    "collapsed": false
   },
   "outputs": [
    {
     "data": {
      "text/plain": [
       "'I'"
      ]
     },
     "execution_count": 66,
     "metadata": {},
     "output_type": "execute_result"
    }
   ],
   "source": [
    "s[0].upper()"
   ]
  },
  {
   "cell_type": "code",
   "execution_count": 68,
   "metadata": {
    "collapsed": false
   },
   "outputs": [],
   "source": [
    "s = 'Im a string'"
   ]
  },
  {
   "cell_type": "code",
   "execution_count": 69,
   "metadata": {
    "collapsed": false
   },
   "outputs": [
    {
     "data": {
      "text/plain": [
       "'Im a string'"
      ]
     },
     "execution_count": 69,
     "metadata": {},
     "output_type": "execute_result"
    }
   ],
   "source": [
    "s"
   ]
  },
  {
   "cell_type": "code",
   "execution_count": 70,
   "metadata": {
    "collapsed": false
   },
   "outputs": [
    {
     "data": {
      "text/plain": [
       "'im a string'"
      ]
     },
     "execution_count": 70,
     "metadata": {},
     "output_type": "execute_result"
    }
   ],
   "source": [
    "s.lower()"
   ]
  },
  {
   "cell_type": "code",
   "execution_count": 71,
   "metadata": {
    "collapsed": false
   },
   "outputs": [
    {
     "data": {
      "text/plain": [
       "3"
      ]
     },
     "execution_count": 71,
     "metadata": {},
     "output_type": "execute_result"
    }
   ],
   "source": [
    "s.find('a')"
   ]
  },
  {
   "cell_type": "code",
   "execution_count": 72,
   "metadata": {
    "collapsed": false
   },
   "outputs": [
    {
     "data": {
      "text/plain": [
       "'g'"
      ]
     },
     "execution_count": 72,
     "metadata": {},
     "output_type": "execute_result"
    }
   ],
   "source": [
    "s[-1]"
   ]
  },
  {
   "cell_type": "code",
   "execution_count": 73,
   "metadata": {
    "collapsed": false
   },
   "outputs": [
    {
     "data": {
      "text/plain": [
       "'t'"
      ]
     },
     "execution_count": 73,
     "metadata": {},
     "output_type": "execute_result"
    }
   ],
   "source": [
    "s[-5]"
   ]
  },
  {
   "cell_type": "code",
   "execution_count": 74,
   "metadata": {
    "collapsed": true
   },
   "outputs": [],
   "source": [
    "T = (0, 1)"
   ]
  },
  {
   "cell_type": "code",
   "execution_count": 76,
   "metadata": {
    "collapsed": false
   },
   "outputs": [
    {
     "data": {
      "text/plain": [
       "(0, 1)"
      ]
     },
     "execution_count": 76,
     "metadata": {},
     "output_type": "execute_result"
    }
   ],
   "source": [
    "T"
   ]
  },
  {
   "cell_type": "code",
   "execution_count": 77,
   "metadata": {
    "collapsed": false
   },
   "outputs": [
    {
     "data": {
      "text/plain": [
       "0"
      ]
     },
     "execution_count": 77,
     "metadata": {},
     "output_type": "execute_result"
    }
   ],
   "source": [
    "T[0]"
   ]
  },
  {
   "cell_type": "code",
   "execution_count": 78,
   "metadata": {
    "collapsed": false
   },
   "outputs": [
    {
     "ename": "TypeError",
     "evalue": "'tuple' object does not support item assignment",
     "output_type": "error",
     "traceback": [
      "\u001b[0;31m---------------------------------------------------------------------------\u001b[0m",
      "\u001b[0;31mTypeError\u001b[0m                                 Traceback (most recent call last)",
      "\u001b[0;32m<ipython-input-78-e21edf6b8818>\u001b[0m in \u001b[0;36m<module>\u001b[0;34m()\u001b[0m\n\u001b[0;32m----> 1\u001b[0;31m \u001b[0mT\u001b[0m\u001b[0;34m[\u001b[0m\u001b[0;36m0\u001b[0m\u001b[0;34m]\u001b[0m \u001b[0;34m=\u001b[0m \u001b[0;36m1\u001b[0m\u001b[0;34m\u001b[0m\u001b[0m\n\u001b[0m",
      "\u001b[0;31mTypeError\u001b[0m: 'tuple' object does not support item assignment"
     ]
    }
   ],
   "source": [
    "T[0] = 1"
   ]
  },
  {
   "cell_type": "code",
   "execution_count": 79,
   "metadata": {
    "collapsed": false
   },
   "outputs": [
    {
     "ename": "AttributeError",
     "evalue": "'tuple' object has no attribute 'append'",
     "output_type": "error",
     "traceback": [
      "\u001b[0;31m---------------------------------------------------------------------------\u001b[0m",
      "\u001b[0;31mAttributeError\u001b[0m                            Traceback (most recent call last)",
      "\u001b[0;32m<ipython-input-79-11278153cca0>\u001b[0m in \u001b[0;36m<module>\u001b[0;34m()\u001b[0m\n\u001b[0;32m----> 1\u001b[0;31m \u001b[0mT\u001b[0m\u001b[0;34m.\u001b[0m\u001b[0mappend\u001b[0m\u001b[0;34m(\u001b[0m\u001b[0;36m1\u001b[0m\u001b[0;34m)\u001b[0m\u001b[0;34m\u001b[0m\u001b[0m\n\u001b[0m",
      "\u001b[0;31mAttributeError\u001b[0m: 'tuple' object has no attribute 'append'"
     ]
    }
   ],
   "source": [
    "T.append(1)"
   ]
  },
  {
   "cell_type": "code",
   "execution_count": 80,
   "metadata": {
    "collapsed": true
   },
   "outputs": [],
   "source": [
    "D = {'homeworks': [1, 2, 3],\n",
    "     'grades': [0,0,0]}"
   ]
  },
  {
   "cell_type": "code",
   "execution_count": 81,
   "metadata": {
    "collapsed": false
   },
   "outputs": [
    {
     "data": {
      "text/plain": [
       "{'grades': [0, 0, 0], 'homeworks': [1, 2, 3]}"
      ]
     },
     "execution_count": 81,
     "metadata": {},
     "output_type": "execute_result"
    }
   ],
   "source": [
    "D"
   ]
  },
  {
   "cell_type": "code",
   "execution_count": 82,
   "metadata": {
    "collapsed": false
   },
   "outputs": [
    {
     "data": {
      "text/plain": [
       "[0, 0, 0]"
      ]
     },
     "execution_count": 82,
     "metadata": {},
     "output_type": "execute_result"
    }
   ],
   "source": [
    "D['grades']"
   ]
  },
  {
   "cell_type": "code",
   "execution_count": 83,
   "metadata": {
    "collapsed": false
   },
   "outputs": [
    {
     "data": {
      "text/plain": [
       "dict"
      ]
     },
     "execution_count": 83,
     "metadata": {},
     "output_type": "execute_result"
    }
   ],
   "source": [
    "type(D)"
   ]
  },
  {
   "cell_type": "code",
   "execution_count": 84,
   "metadata": {
    "collapsed": false
   },
   "outputs": [
    {
     "name": "stdout",
     "output_type": "stream",
     "text": [
      "grades\n",
      "homeworks\n"
     ]
    }
   ],
   "source": [
    "for i in D:\n",
    "    print(i)"
   ]
  },
  {
   "cell_type": "code",
   "execution_count": 94,
   "metadata": {
    "collapsed": false,
    "scrolled": true
   },
   "outputs": [
    {
     "name": "stdout",
     "output_type": "stream",
     "text": [
      "0 1\n",
      "0\n",
      "1 2\n",
      "0\n",
      "2 3\n",
      "0\n"
     ]
    }
   ],
   "source": [
    "for i, j in enumerate(D['homeworks']):\n",
    "    print(i, j)\n",
    "    print(D['grades'][i])"
   ]
  },
  {
   "cell_type": "code",
   "execution_count": 95,
   "metadata": {
    "collapsed": false
   },
   "outputs": [
    {
     "data": {
      "text/plain": [
       "{'grades': [0, 0, 0], 'homeworks': [1, 2, 3]}"
      ]
     },
     "execution_count": 95,
     "metadata": {},
     "output_type": "execute_result"
    }
   ],
   "source": [
    "D"
   ]
  },
  {
   "cell_type": "code",
   "execution_count": 96,
   "metadata": {
    "collapsed": false
   },
   "outputs": [
    {
     "data": {
      "text/plain": [
       "[0, 1, 2, 3, 4, 5, 6, 7, 8, 9]"
      ]
     },
     "execution_count": 96,
     "metadata": {},
     "output_type": "execute_result"
    }
   ],
   "source": [
    "[i for i in range(0, 10)]"
   ]
  },
  {
   "cell_type": "code",
   "execution_count": 97,
   "metadata": {
    "collapsed": true
   },
   "outputs": [],
   "source": [
    "import numpy as np"
   ]
  },
  {
   "cell_type": "code",
   "execution_count": 104,
   "metadata": {
    "collapsed": false
   },
   "outputs": [],
   "source": [
    "x = np.zeros([2, 2])"
   ]
  },
  {
   "cell_type": "code",
   "execution_count": 105,
   "metadata": {
    "collapsed": false
   },
   "outputs": [
    {
     "data": {
      "text/plain": [
       "array([[ 0.,  0.],\n",
       "       [ 0.,  0.]])"
      ]
     },
     "execution_count": 105,
     "metadata": {},
     "output_type": "execute_result"
    }
   ],
   "source": [
    "x"
   ]
  },
  {
   "cell_type": "code",
   "execution_count": 106,
   "metadata": {
    "collapsed": true
   },
   "outputs": [],
   "source": [
    "I = np.eye((2))"
   ]
  },
  {
   "cell_type": "code",
   "execution_count": 107,
   "metadata": {
    "collapsed": false
   },
   "outputs": [
    {
     "data": {
      "text/plain": [
       "array([[ 1.,  0.],\n",
       "       [ 0.,  1.]])"
      ]
     },
     "execution_count": 107,
     "metadata": {},
     "output_type": "execute_result"
    }
   ],
   "source": [
    "I"
   ]
  },
  {
   "cell_type": "code",
   "execution_count": 109,
   "metadata": {
    "collapsed": false
   },
   "outputs": [
    {
     "data": {
      "text/plain": [
       "1.0"
      ]
     },
     "execution_count": 109,
     "metadata": {},
     "output_type": "execute_result"
    }
   ],
   "source": [
    "I[0, 0]"
   ]
  },
  {
   "cell_type": "code",
   "execution_count": 112,
   "metadata": {
    "collapsed": false
   },
   "outputs": [
    {
     "data": {
      "text/plain": [
       "array(['1.0', '2.0'], \n",
       "      dtype='<U32')"
      ]
     },
     "execution_count": 112,
     "metadata": {},
     "output_type": "execute_result"
    }
   ],
   "source": [
    "x = np.array([1.0, '2.0'])\n",
    "x"
   ]
  },
  {
   "cell_type": "code",
   "execution_count": 113,
   "metadata": {
    "collapsed": true
   },
   "outputs": [],
   "source": [
    "x = np.zeros((2,2,2,2,2,2,2,2,2,2))"
   ]
  },
  {
   "cell_type": "code",
   "execution_count": 115,
   "metadata": {
    "collapsed": false
   },
   "outputs": [
    {
     "data": {
      "text/plain": [
       "(2, 2, 2, 2, 2, 2, 2, 2, 2, 2)"
      ]
     },
     "execution_count": 115,
     "metadata": {},
     "output_type": "execute_result"
    }
   ],
   "source": [
    "x.shape"
   ]
  },
  {
   "cell_type": "code",
   "execution_count": 116,
   "metadata": {
    "collapsed": false
   },
   "outputs": [
    {
     "data": {
      "text/plain": [
       "array([[[[[[[[[[ 0.,  0.],\n",
       "               [ 0.,  0.]],\n",
       "\n",
       "              [[ 0.,  0.],\n",
       "               [ 0.,  0.]]],\n",
       "\n",
       "\n",
       "             [[[ 0.,  0.],\n",
       "               [ 0.,  0.]],\n",
       "\n",
       "              [[ 0.,  0.],\n",
       "               [ 0.,  0.]]]],\n",
       "\n",
       "\n",
       "\n",
       "            [[[[ 0.,  0.],\n",
       "               [ 0.,  0.]],\n",
       "\n",
       "              [[ 0.,  0.],\n",
       "               [ 0.,  0.]]],\n",
       "\n",
       "\n",
       "             [[[ 0.,  0.],\n",
       "               [ 0.,  0.]],\n",
       "\n",
       "              [[ 0.,  0.],\n",
       "               [ 0.,  0.]]]]],\n",
       "\n",
       "\n",
       "\n",
       "\n",
       "           [[[[[ 0.,  0.],\n",
       "               [ 0.,  0.]],\n",
       "\n",
       "              [[ 0.,  0.],\n",
       "               [ 0.,  0.]]],\n",
       "\n",
       "\n",
       "             [[[ 0.,  0.],\n",
       "               [ 0.,  0.]],\n",
       "\n",
       "              [[ 0.,  0.],\n",
       "               [ 0.,  0.]]]],\n",
       "\n",
       "\n",
       "\n",
       "            [[[[ 0.,  0.],\n",
       "               [ 0.,  0.]],\n",
       "\n",
       "              [[ 0.,  0.],\n",
       "               [ 0.,  0.]]],\n",
       "\n",
       "\n",
       "             [[[ 0.,  0.],\n",
       "               [ 0.,  0.]],\n",
       "\n",
       "              [[ 0.,  0.],\n",
       "               [ 0.,  0.]]]]]],\n",
       "\n",
       "\n",
       "\n",
       "\n",
       "\n",
       "          [[[[[[ 0.,  0.],\n",
       "               [ 0.,  0.]],\n",
       "\n",
       "              [[ 0.,  0.],\n",
       "               [ 0.,  0.]]],\n",
       "\n",
       "\n",
       "             [[[ 0.,  0.],\n",
       "               [ 0.,  0.]],\n",
       "\n",
       "              [[ 0.,  0.],\n",
       "               [ 0.,  0.]]]],\n",
       "\n",
       "\n",
       "\n",
       "            [[[[ 0.,  0.],\n",
       "               [ 0.,  0.]],\n",
       "\n",
       "              [[ 0.,  0.],\n",
       "               [ 0.,  0.]]],\n",
       "\n",
       "\n",
       "             [[[ 0.,  0.],\n",
       "               [ 0.,  0.]],\n",
       "\n",
       "              [[ 0.,  0.],\n",
       "               [ 0.,  0.]]]]],\n",
       "\n",
       "\n",
       "\n",
       "\n",
       "           [[[[[ 0.,  0.],\n",
       "               [ 0.,  0.]],\n",
       "\n",
       "              [[ 0.,  0.],\n",
       "               [ 0.,  0.]]],\n",
       "\n",
       "\n",
       "             [[[ 0.,  0.],\n",
       "               [ 0.,  0.]],\n",
       "\n",
       "              [[ 0.,  0.],\n",
       "               [ 0.,  0.]]]],\n",
       "\n",
       "\n",
       "\n",
       "            [[[[ 0.,  0.],\n",
       "               [ 0.,  0.]],\n",
       "\n",
       "              [[ 0.,  0.],\n",
       "               [ 0.,  0.]]],\n",
       "\n",
       "\n",
       "             [[[ 0.,  0.],\n",
       "               [ 0.,  0.]],\n",
       "\n",
       "              [[ 0.,  0.],\n",
       "               [ 0.,  0.]]]]]]],\n",
       "\n",
       "\n",
       "\n",
       "\n",
       "\n",
       "\n",
       "         [[[[[[[ 0.,  0.],\n",
       "               [ 0.,  0.]],\n",
       "\n",
       "              [[ 0.,  0.],\n",
       "               [ 0.,  0.]]],\n",
       "\n",
       "\n",
       "             [[[ 0.,  0.],\n",
       "               [ 0.,  0.]],\n",
       "\n",
       "              [[ 0.,  0.],\n",
       "               [ 0.,  0.]]]],\n",
       "\n",
       "\n",
       "\n",
       "            [[[[ 0.,  0.],\n",
       "               [ 0.,  0.]],\n",
       "\n",
       "              [[ 0.,  0.],\n",
       "               [ 0.,  0.]]],\n",
       "\n",
       "\n",
       "             [[[ 0.,  0.],\n",
       "               [ 0.,  0.]],\n",
       "\n",
       "              [[ 0.,  0.],\n",
       "               [ 0.,  0.]]]]],\n",
       "\n",
       "\n",
       "\n",
       "\n",
       "           [[[[[ 0.,  0.],\n",
       "               [ 0.,  0.]],\n",
       "\n",
       "              [[ 0.,  0.],\n",
       "               [ 0.,  0.]]],\n",
       "\n",
       "\n",
       "             [[[ 0.,  0.],\n",
       "               [ 0.,  0.]],\n",
       "\n",
       "              [[ 0.,  0.],\n",
       "               [ 0.,  0.]]]],\n",
       "\n",
       "\n",
       "\n",
       "            [[[[ 0.,  0.],\n",
       "               [ 0.,  0.]],\n",
       "\n",
       "              [[ 0.,  0.],\n",
       "               [ 0.,  0.]]],\n",
       "\n",
       "\n",
       "             [[[ 0.,  0.],\n",
       "               [ 0.,  0.]],\n",
       "\n",
       "              [[ 0.,  0.],\n",
       "               [ 0.,  0.]]]]]],\n",
       "\n",
       "\n",
       "\n",
       "\n",
       "\n",
       "          [[[[[[ 0.,  0.],\n",
       "               [ 0.,  0.]],\n",
       "\n",
       "              [[ 0.,  0.],\n",
       "               [ 0.,  0.]]],\n",
       "\n",
       "\n",
       "             [[[ 0.,  0.],\n",
       "               [ 0.,  0.]],\n",
       "\n",
       "              [[ 0.,  0.],\n",
       "               [ 0.,  0.]]]],\n",
       "\n",
       "\n",
       "\n",
       "            [[[[ 0.,  0.],\n",
       "               [ 0.,  0.]],\n",
       "\n",
       "              [[ 0.,  0.],\n",
       "               [ 0.,  0.]]],\n",
       "\n",
       "\n",
       "             [[[ 0.,  0.],\n",
       "               [ 0.,  0.]],\n",
       "\n",
       "              [[ 0.,  0.],\n",
       "               [ 0.,  0.]]]]],\n",
       "\n",
       "\n",
       "\n",
       "\n",
       "           [[[[[ 0.,  0.],\n",
       "               [ 0.,  0.]],\n",
       "\n",
       "              [[ 0.,  0.],\n",
       "               [ 0.,  0.]]],\n",
       "\n",
       "\n",
       "             [[[ 0.,  0.],\n",
       "               [ 0.,  0.]],\n",
       "\n",
       "              [[ 0.,  0.],\n",
       "               [ 0.,  0.]]]],\n",
       "\n",
       "\n",
       "\n",
       "            [[[[ 0.,  0.],\n",
       "               [ 0.,  0.]],\n",
       "\n",
       "              [[ 0.,  0.],\n",
       "               [ 0.,  0.]]],\n",
       "\n",
       "\n",
       "             [[[ 0.,  0.],\n",
       "               [ 0.,  0.]],\n",
       "\n",
       "              [[ 0.,  0.],\n",
       "               [ 0.,  0.]]]]]]]],\n",
       "\n",
       "\n",
       "\n",
       "\n",
       "\n",
       "\n",
       "\n",
       "        [[[[[[[[ 0.,  0.],\n",
       "               [ 0.,  0.]],\n",
       "\n",
       "              [[ 0.,  0.],\n",
       "               [ 0.,  0.]]],\n",
       "\n",
       "\n",
       "             [[[ 0.,  0.],\n",
       "               [ 0.,  0.]],\n",
       "\n",
       "              [[ 0.,  0.],\n",
       "               [ 0.,  0.]]]],\n",
       "\n",
       "\n",
       "\n",
       "            [[[[ 0.,  0.],\n",
       "               [ 0.,  0.]],\n",
       "\n",
       "              [[ 0.,  0.],\n",
       "               [ 0.,  0.]]],\n",
       "\n",
       "\n",
       "             [[[ 0.,  0.],\n",
       "               [ 0.,  0.]],\n",
       "\n",
       "              [[ 0.,  0.],\n",
       "               [ 0.,  0.]]]]],\n",
       "\n",
       "\n",
       "\n",
       "\n",
       "           [[[[[ 0.,  0.],\n",
       "               [ 0.,  0.]],\n",
       "\n",
       "              [[ 0.,  0.],\n",
       "               [ 0.,  0.]]],\n",
       "\n",
       "\n",
       "             [[[ 0.,  0.],\n",
       "               [ 0.,  0.]],\n",
       "\n",
       "              [[ 0.,  0.],\n",
       "               [ 0.,  0.]]]],\n",
       "\n",
       "\n",
       "\n",
       "            [[[[ 0.,  0.],\n",
       "               [ 0.,  0.]],\n",
       "\n",
       "              [[ 0.,  0.],\n",
       "               [ 0.,  0.]]],\n",
       "\n",
       "\n",
       "             [[[ 0.,  0.],\n",
       "               [ 0.,  0.]],\n",
       "\n",
       "              [[ 0.,  0.],\n",
       "               [ 0.,  0.]]]]]],\n",
       "\n",
       "\n",
       "\n",
       "\n",
       "\n",
       "          [[[[[[ 0.,  0.],\n",
       "               [ 0.,  0.]],\n",
       "\n",
       "              [[ 0.,  0.],\n",
       "               [ 0.,  0.]]],\n",
       "\n",
       "\n",
       "             [[[ 0.,  0.],\n",
       "               [ 0.,  0.]],\n",
       "\n",
       "              [[ 0.,  0.],\n",
       "               [ 0.,  0.]]]],\n",
       "\n",
       "\n",
       "\n",
       "            [[[[ 0.,  0.],\n",
       "               [ 0.,  0.]],\n",
       "\n",
       "              [[ 0.,  0.],\n",
       "               [ 0.,  0.]]],\n",
       "\n",
       "\n",
       "             [[[ 0.,  0.],\n",
       "               [ 0.,  0.]],\n",
       "\n",
       "              [[ 0.,  0.],\n",
       "               [ 0.,  0.]]]]],\n",
       "\n",
       "\n",
       "\n",
       "\n",
       "           [[[[[ 0.,  0.],\n",
       "               [ 0.,  0.]],\n",
       "\n",
       "              [[ 0.,  0.],\n",
       "               [ 0.,  0.]]],\n",
       "\n",
       "\n",
       "             [[[ 0.,  0.],\n",
       "               [ 0.,  0.]],\n",
       "\n",
       "              [[ 0.,  0.],\n",
       "               [ 0.,  0.]]]],\n",
       "\n",
       "\n",
       "\n",
       "            [[[[ 0.,  0.],\n",
       "               [ 0.,  0.]],\n",
       "\n",
       "              [[ 0.,  0.],\n",
       "               [ 0.,  0.]]],\n",
       "\n",
       "\n",
       "             [[[ 0.,  0.],\n",
       "               [ 0.,  0.]],\n",
       "\n",
       "              [[ 0.,  0.],\n",
       "               [ 0.,  0.]]]]]]],\n",
       "\n",
       "\n",
       "\n",
       "\n",
       "\n",
       "\n",
       "         [[[[[[[ 0.,  0.],\n",
       "               [ 0.,  0.]],\n",
       "\n",
       "              [[ 0.,  0.],\n",
       "               [ 0.,  0.]]],\n",
       "\n",
       "\n",
       "             [[[ 0.,  0.],\n",
       "               [ 0.,  0.]],\n",
       "\n",
       "              [[ 0.,  0.],\n",
       "               [ 0.,  0.]]]],\n",
       "\n",
       "\n",
       "\n",
       "            [[[[ 0.,  0.],\n",
       "               [ 0.,  0.]],\n",
       "\n",
       "              [[ 0.,  0.],\n",
       "               [ 0.,  0.]]],\n",
       "\n",
       "\n",
       "             [[[ 0.,  0.],\n",
       "               [ 0.,  0.]],\n",
       "\n",
       "              [[ 0.,  0.],\n",
       "               [ 0.,  0.]]]]],\n",
       "\n",
       "\n",
       "\n",
       "\n",
       "           [[[[[ 0.,  0.],\n",
       "               [ 0.,  0.]],\n",
       "\n",
       "              [[ 0.,  0.],\n",
       "               [ 0.,  0.]]],\n",
       "\n",
       "\n",
       "             [[[ 0.,  0.],\n",
       "               [ 0.,  0.]],\n",
       "\n",
       "              [[ 0.,  0.],\n",
       "               [ 0.,  0.]]]],\n",
       "\n",
       "\n",
       "\n",
       "            [[[[ 0.,  0.],\n",
       "               [ 0.,  0.]],\n",
       "\n",
       "              [[ 0.,  0.],\n",
       "               [ 0.,  0.]]],\n",
       "\n",
       "\n",
       "             [[[ 0.,  0.],\n",
       "               [ 0.,  0.]],\n",
       "\n",
       "              [[ 0.,  0.],\n",
       "               [ 0.,  0.]]]]]],\n",
       "\n",
       "\n",
       "\n",
       "\n",
       "\n",
       "          [[[[[[ 0.,  0.],\n",
       "               [ 0.,  0.]],\n",
       "\n",
       "              [[ 0.,  0.],\n",
       "               [ 0.,  0.]]],\n",
       "\n",
       "\n",
       "             [[[ 0.,  0.],\n",
       "               [ 0.,  0.]],\n",
       "\n",
       "              [[ 0.,  0.],\n",
       "               [ 0.,  0.]]]],\n",
       "\n",
       "\n",
       "\n",
       "            [[[[ 0.,  0.],\n",
       "               [ 0.,  0.]],\n",
       "\n",
       "              [[ 0.,  0.],\n",
       "               [ 0.,  0.]]],\n",
       "\n",
       "\n",
       "             [[[ 0.,  0.],\n",
       "               [ 0.,  0.]],\n",
       "\n",
       "              [[ 0.,  0.],\n",
       "               [ 0.,  0.]]]]],\n",
       "\n",
       "\n",
       "\n",
       "\n",
       "           [[[[[ 0.,  0.],\n",
       "               [ 0.,  0.]],\n",
       "\n",
       "              [[ 0.,  0.],\n",
       "               [ 0.,  0.]]],\n",
       "\n",
       "\n",
       "             [[[ 0.,  0.],\n",
       "               [ 0.,  0.]],\n",
       "\n",
       "              [[ 0.,  0.],\n",
       "               [ 0.,  0.]]]],\n",
       "\n",
       "\n",
       "\n",
       "            [[[[ 0.,  0.],\n",
       "               [ 0.,  0.]],\n",
       "\n",
       "              [[ 0.,  0.],\n",
       "               [ 0.,  0.]]],\n",
       "\n",
       "\n",
       "             [[[ 0.,  0.],\n",
       "               [ 0.,  0.]],\n",
       "\n",
       "              [[ 0.,  0.],\n",
       "               [ 0.,  0.]]]]]]]]],\n",
       "\n",
       "\n",
       "\n",
       "\n",
       "\n",
       "\n",
       "\n",
       "\n",
       "       [[[[[[[[[ 0.,  0.],\n",
       "               [ 0.,  0.]],\n",
       "\n",
       "              [[ 0.,  0.],\n",
       "               [ 0.,  0.]]],\n",
       "\n",
       "\n",
       "             [[[ 0.,  0.],\n",
       "               [ 0.,  0.]],\n",
       "\n",
       "              [[ 0.,  0.],\n",
       "               [ 0.,  0.]]]],\n",
       "\n",
       "\n",
       "\n",
       "            [[[[ 0.,  0.],\n",
       "               [ 0.,  0.]],\n",
       "\n",
       "              [[ 0.,  0.],\n",
       "               [ 0.,  0.]]],\n",
       "\n",
       "\n",
       "             [[[ 0.,  0.],\n",
       "               [ 0.,  0.]],\n",
       "\n",
       "              [[ 0.,  0.],\n",
       "               [ 0.,  0.]]]]],\n",
       "\n",
       "\n",
       "\n",
       "\n",
       "           [[[[[ 0.,  0.],\n",
       "               [ 0.,  0.]],\n",
       "\n",
       "              [[ 0.,  0.],\n",
       "               [ 0.,  0.]]],\n",
       "\n",
       "\n",
       "             [[[ 0.,  0.],\n",
       "               [ 0.,  0.]],\n",
       "\n",
       "              [[ 0.,  0.],\n",
       "               [ 0.,  0.]]]],\n",
       "\n",
       "\n",
       "\n",
       "            [[[[ 0.,  0.],\n",
       "               [ 0.,  0.]],\n",
       "\n",
       "              [[ 0.,  0.],\n",
       "               [ 0.,  0.]]],\n",
       "\n",
       "\n",
       "             [[[ 0.,  0.],\n",
       "               [ 0.,  0.]],\n",
       "\n",
       "              [[ 0.,  0.],\n",
       "               [ 0.,  0.]]]]]],\n",
       "\n",
       "\n",
       "\n",
       "\n",
       "\n",
       "          [[[[[[ 0.,  0.],\n",
       "               [ 0.,  0.]],\n",
       "\n",
       "              [[ 0.,  0.],\n",
       "               [ 0.,  0.]]],\n",
       "\n",
       "\n",
       "             [[[ 0.,  0.],\n",
       "               [ 0.,  0.]],\n",
       "\n",
       "              [[ 0.,  0.],\n",
       "               [ 0.,  0.]]]],\n",
       "\n",
       "\n",
       "\n",
       "            [[[[ 0.,  0.],\n",
       "               [ 0.,  0.]],\n",
       "\n",
       "              [[ 0.,  0.],\n",
       "               [ 0.,  0.]]],\n",
       "\n",
       "\n",
       "             [[[ 0.,  0.],\n",
       "               [ 0.,  0.]],\n",
       "\n",
       "              [[ 0.,  0.],\n",
       "               [ 0.,  0.]]]]],\n",
       "\n",
       "\n",
       "\n",
       "\n",
       "           [[[[[ 0.,  0.],\n",
       "               [ 0.,  0.]],\n",
       "\n",
       "              [[ 0.,  0.],\n",
       "               [ 0.,  0.]]],\n",
       "\n",
       "\n",
       "             [[[ 0.,  0.],\n",
       "               [ 0.,  0.]],\n",
       "\n",
       "              [[ 0.,  0.],\n",
       "               [ 0.,  0.]]]],\n",
       "\n",
       "\n",
       "\n",
       "            [[[[ 0.,  0.],\n",
       "               [ 0.,  0.]],\n",
       "\n",
       "              [[ 0.,  0.],\n",
       "               [ 0.,  0.]]],\n",
       "\n",
       "\n",
       "             [[[ 0.,  0.],\n",
       "               [ 0.,  0.]],\n",
       "\n",
       "              [[ 0.,  0.],\n",
       "               [ 0.,  0.]]]]]]],\n",
       "\n",
       "\n",
       "\n",
       "\n",
       "\n",
       "\n",
       "         [[[[[[[ 0.,  0.],\n",
       "               [ 0.,  0.]],\n",
       "\n",
       "              [[ 0.,  0.],\n",
       "               [ 0.,  0.]]],\n",
       "\n",
       "\n",
       "             [[[ 0.,  0.],\n",
       "               [ 0.,  0.]],\n",
       "\n",
       "              [[ 0.,  0.],\n",
       "               [ 0.,  0.]]]],\n",
       "\n",
       "\n",
       "\n",
       "            [[[[ 0.,  0.],\n",
       "               [ 0.,  0.]],\n",
       "\n",
       "              [[ 0.,  0.],\n",
       "               [ 0.,  0.]]],\n",
       "\n",
       "\n",
       "             [[[ 0.,  0.],\n",
       "               [ 0.,  0.]],\n",
       "\n",
       "              [[ 0.,  0.],\n",
       "               [ 0.,  0.]]]]],\n",
       "\n",
       "\n",
       "\n",
       "\n",
       "           [[[[[ 0.,  0.],\n",
       "               [ 0.,  0.]],\n",
       "\n",
       "              [[ 0.,  0.],\n",
       "               [ 0.,  0.]]],\n",
       "\n",
       "\n",
       "             [[[ 0.,  0.],\n",
       "               [ 0.,  0.]],\n",
       "\n",
       "              [[ 0.,  0.],\n",
       "               [ 0.,  0.]]]],\n",
       "\n",
       "\n",
       "\n",
       "            [[[[ 0.,  0.],\n",
       "               [ 0.,  0.]],\n",
       "\n",
       "              [[ 0.,  0.],\n",
       "               [ 0.,  0.]]],\n",
       "\n",
       "\n",
       "             [[[ 0.,  0.],\n",
       "               [ 0.,  0.]],\n",
       "\n",
       "              [[ 0.,  0.],\n",
       "               [ 0.,  0.]]]]]],\n",
       "\n",
       "\n",
       "\n",
       "\n",
       "\n",
       "          [[[[[[ 0.,  0.],\n",
       "               [ 0.,  0.]],\n",
       "\n",
       "              [[ 0.,  0.],\n",
       "               [ 0.,  0.]]],\n",
       "\n",
       "\n",
       "             [[[ 0.,  0.],\n",
       "               [ 0.,  0.]],\n",
       "\n",
       "              [[ 0.,  0.],\n",
       "               [ 0.,  0.]]]],\n",
       "\n",
       "\n",
       "\n",
       "            [[[[ 0.,  0.],\n",
       "               [ 0.,  0.]],\n",
       "\n",
       "              [[ 0.,  0.],\n",
       "               [ 0.,  0.]]],\n",
       "\n",
       "\n",
       "             [[[ 0.,  0.],\n",
       "               [ 0.,  0.]],\n",
       "\n",
       "              [[ 0.,  0.],\n",
       "               [ 0.,  0.]]]]],\n",
       "\n",
       "\n",
       "\n",
       "\n",
       "           [[[[[ 0.,  0.],\n",
       "               [ 0.,  0.]],\n",
       "\n",
       "              [[ 0.,  0.],\n",
       "               [ 0.,  0.]]],\n",
       "\n",
       "\n",
       "             [[[ 0.,  0.],\n",
       "               [ 0.,  0.]],\n",
       "\n",
       "              [[ 0.,  0.],\n",
       "               [ 0.,  0.]]]],\n",
       "\n",
       "\n",
       "\n",
       "            [[[[ 0.,  0.],\n",
       "               [ 0.,  0.]],\n",
       "\n",
       "              [[ 0.,  0.],\n",
       "               [ 0.,  0.]]],\n",
       "\n",
       "\n",
       "             [[[ 0.,  0.],\n",
       "               [ 0.,  0.]],\n",
       "\n",
       "              [[ 0.,  0.],\n",
       "               [ 0.,  0.]]]]]]]],\n",
       "\n",
       "\n",
       "\n",
       "\n",
       "\n",
       "\n",
       "\n",
       "        [[[[[[[[ 0.,  0.],\n",
       "               [ 0.,  0.]],\n",
       "\n",
       "              [[ 0.,  0.],\n",
       "               [ 0.,  0.]]],\n",
       "\n",
       "\n",
       "             [[[ 0.,  0.],\n",
       "               [ 0.,  0.]],\n",
       "\n",
       "              [[ 0.,  0.],\n",
       "               [ 0.,  0.]]]],\n",
       "\n",
       "\n",
       "\n",
       "            [[[[ 0.,  0.],\n",
       "               [ 0.,  0.]],\n",
       "\n",
       "              [[ 0.,  0.],\n",
       "               [ 0.,  0.]]],\n",
       "\n",
       "\n",
       "             [[[ 0.,  0.],\n",
       "               [ 0.,  0.]],\n",
       "\n",
       "              [[ 0.,  0.],\n",
       "               [ 0.,  0.]]]]],\n",
       "\n",
       "\n",
       "\n",
       "\n",
       "           [[[[[ 0.,  0.],\n",
       "               [ 0.,  0.]],\n",
       "\n",
       "              [[ 0.,  0.],\n",
       "               [ 0.,  0.]]],\n",
       "\n",
       "\n",
       "             [[[ 0.,  0.],\n",
       "               [ 0.,  0.]],\n",
       "\n",
       "              [[ 0.,  0.],\n",
       "               [ 0.,  0.]]]],\n",
       "\n",
       "\n",
       "\n",
       "            [[[[ 0.,  0.],\n",
       "               [ 0.,  0.]],\n",
       "\n",
       "              [[ 0.,  0.],\n",
       "               [ 0.,  0.]]],\n",
       "\n",
       "\n",
       "             [[[ 0.,  0.],\n",
       "               [ 0.,  0.]],\n",
       "\n",
       "              [[ 0.,  0.],\n",
       "               [ 0.,  0.]]]]]],\n",
       "\n",
       "\n",
       "\n",
       "\n",
       "\n",
       "          [[[[[[ 0.,  0.],\n",
       "               [ 0.,  0.]],\n",
       "\n",
       "              [[ 0.,  0.],\n",
       "               [ 0.,  0.]]],\n",
       "\n",
       "\n",
       "             [[[ 0.,  0.],\n",
       "               [ 0.,  0.]],\n",
       "\n",
       "              [[ 0.,  0.],\n",
       "               [ 0.,  0.]]]],\n",
       "\n",
       "\n",
       "\n",
       "            [[[[ 0.,  0.],\n",
       "               [ 0.,  0.]],\n",
       "\n",
       "              [[ 0.,  0.],\n",
       "               [ 0.,  0.]]],\n",
       "\n",
       "\n",
       "             [[[ 0.,  0.],\n",
       "               [ 0.,  0.]],\n",
       "\n",
       "              [[ 0.,  0.],\n",
       "               [ 0.,  0.]]]]],\n",
       "\n",
       "\n",
       "\n",
       "\n",
       "           [[[[[ 0.,  0.],\n",
       "               [ 0.,  0.]],\n",
       "\n",
       "              [[ 0.,  0.],\n",
       "               [ 0.,  0.]]],\n",
       "\n",
       "\n",
       "             [[[ 0.,  0.],\n",
       "               [ 0.,  0.]],\n",
       "\n",
       "              [[ 0.,  0.],\n",
       "               [ 0.,  0.]]]],\n",
       "\n",
       "\n",
       "\n",
       "            [[[[ 0.,  0.],\n",
       "               [ 0.,  0.]],\n",
       "\n",
       "              [[ 0.,  0.],\n",
       "               [ 0.,  0.]]],\n",
       "\n",
       "\n",
       "             [[[ 0.,  0.],\n",
       "               [ 0.,  0.]],\n",
       "\n",
       "              [[ 0.,  0.],\n",
       "               [ 0.,  0.]]]]]]],\n",
       "\n",
       "\n",
       "\n",
       "\n",
       "\n",
       "\n",
       "         [[[[[[[ 0.,  0.],\n",
       "               [ 0.,  0.]],\n",
       "\n",
       "              [[ 0.,  0.],\n",
       "               [ 0.,  0.]]],\n",
       "\n",
       "\n",
       "             [[[ 0.,  0.],\n",
       "               [ 0.,  0.]],\n",
       "\n",
       "              [[ 0.,  0.],\n",
       "               [ 0.,  0.]]]],\n",
       "\n",
       "\n",
       "\n",
       "            [[[[ 0.,  0.],\n",
       "               [ 0.,  0.]],\n",
       "\n",
       "              [[ 0.,  0.],\n",
       "               [ 0.,  0.]]],\n",
       "\n",
       "\n",
       "             [[[ 0.,  0.],\n",
       "               [ 0.,  0.]],\n",
       "\n",
       "              [[ 0.,  0.],\n",
       "               [ 0.,  0.]]]]],\n",
       "\n",
       "\n",
       "\n",
       "\n",
       "           [[[[[ 0.,  0.],\n",
       "               [ 0.,  0.]],\n",
       "\n",
       "              [[ 0.,  0.],\n",
       "               [ 0.,  0.]]],\n",
       "\n",
       "\n",
       "             [[[ 0.,  0.],\n",
       "               [ 0.,  0.]],\n",
       "\n",
       "              [[ 0.,  0.],\n",
       "               [ 0.,  0.]]]],\n",
       "\n",
       "\n",
       "\n",
       "            [[[[ 0.,  0.],\n",
       "               [ 0.,  0.]],\n",
       "\n",
       "              [[ 0.,  0.],\n",
       "               [ 0.,  0.]]],\n",
       "\n",
       "\n",
       "             [[[ 0.,  0.],\n",
       "               [ 0.,  0.]],\n",
       "\n",
       "              [[ 0.,  0.],\n",
       "               [ 0.,  0.]]]]]],\n",
       "\n",
       "\n",
       "\n",
       "\n",
       "\n",
       "          [[[[[[ 0.,  0.],\n",
       "               [ 0.,  0.]],\n",
       "\n",
       "              [[ 0.,  0.],\n",
       "               [ 0.,  0.]]],\n",
       "\n",
       "\n",
       "             [[[ 0.,  0.],\n",
       "               [ 0.,  0.]],\n",
       "\n",
       "              [[ 0.,  0.],\n",
       "               [ 0.,  0.]]]],\n",
       "\n",
       "\n",
       "\n",
       "            [[[[ 0.,  0.],\n",
       "               [ 0.,  0.]],\n",
       "\n",
       "              [[ 0.,  0.],\n",
       "               [ 0.,  0.]]],\n",
       "\n",
       "\n",
       "             [[[ 0.,  0.],\n",
       "               [ 0.,  0.]],\n",
       "\n",
       "              [[ 0.,  0.],\n",
       "               [ 0.,  0.]]]]],\n",
       "\n",
       "\n",
       "\n",
       "\n",
       "           [[[[[ 0.,  0.],\n",
       "               [ 0.,  0.]],\n",
       "\n",
       "              [[ 0.,  0.],\n",
       "               [ 0.,  0.]]],\n",
       "\n",
       "\n",
       "             [[[ 0.,  0.],\n",
       "               [ 0.,  0.]],\n",
       "\n",
       "              [[ 0.,  0.],\n",
       "               [ 0.,  0.]]]],\n",
       "\n",
       "\n",
       "\n",
       "            [[[[ 0.,  0.],\n",
       "               [ 0.,  0.]],\n",
       "\n",
       "              [[ 0.,  0.],\n",
       "               [ 0.,  0.]]],\n",
       "\n",
       "\n",
       "             [[[ 0.,  0.],\n",
       "               [ 0.,  0.]],\n",
       "\n",
       "              [[ 0.,  0.],\n",
       "               [ 0.,  0.]]]]]]]]]])"
      ]
     },
     "execution_count": 116,
     "metadata": {},
     "output_type": "execute_result"
    }
   ],
   "source": [
    "x"
   ]
  },
  {
   "cell_type": "code",
   "execution_count": 125,
   "metadata": {
    "collapsed": false
   },
   "outputs": [],
   "source": [
    "X = np.array((range(0, 10),range(10,20)))"
   ]
  },
  {
   "cell_type": "code",
   "execution_count": 126,
   "metadata": {
    "collapsed": false
   },
   "outputs": [
    {
     "data": {
      "text/plain": [
       "array([[10, 11, 12, 13, 14, 15, 16, 17, 18, 19]])"
      ]
     },
     "execution_count": 126,
     "metadata": {},
     "output_type": "execute_result"
    }
   ],
   "source": [
    "X[1:3]"
   ]
  },
  {
   "cell_type": "code",
   "execution_count": 130,
   "metadata": {
    "collapsed": false
   },
   "outputs": [
    {
     "data": {
      "text/plain": [
       "array([ 0, 10])"
      ]
     },
     "execution_count": 130,
     "metadata": {},
     "output_type": "execute_result"
    }
   ],
   "source": [
    "X[:, 0]"
   ]
  },
  {
   "cell_type": "code",
   "execution_count": 132,
   "metadata": {
    "collapsed": false
   },
   "outputs": [
    {
     "data": {
      "text/plain": [
       "array([[ 0,  1,  2,  3,  4,  5,  6,  7,  8,  9],\n",
       "       [10, 11, 12, 13, 14, 15, 16, 17, 18, 19]])"
      ]
     },
     "execution_count": 132,
     "metadata": {},
     "output_type": "execute_result"
    }
   ],
   "source": [
    "X[:, :]"
   ]
  },
  {
   "cell_type": "code",
   "execution_count": 137,
   "metadata": {
    "collapsed": false
   },
   "outputs": [
    {
     "name": "stdout",
     "output_type": "stream",
     "text": [
      "False\n"
     ]
    },
    {
     "data": {
      "text/plain": [
       "True"
      ]
     },
     "execution_count": 137,
     "metadata": {},
     "output_type": "execute_result"
    }
   ],
   "source": [
    "print(2 % 2 == 1)\n",
    "3 % 2 == 1"
   ]
  },
  {
   "cell_type": "code",
   "execution_count": 139,
   "metadata": {
    "collapsed": false
   },
   "outputs": [
    {
     "data": {
      "text/plain": [
       "array([[ True, False,  True, False,  True, False,  True, False,  True,\n",
       "        False],\n",
       "       [ True, False,  True, False,  True, False,  True, False,  True,\n",
       "        False]], dtype=bool)"
      ]
     },
     "execution_count": 139,
     "metadata": {},
     "output_type": "execute_result"
    }
   ],
   "source": [
    "X % 2 == 0"
   ]
  },
  {
   "cell_type": "code",
   "execution_count": 142,
   "metadata": {
    "collapsed": false
   },
   "outputs": [
    {
     "data": {
      "text/plain": [
       "array([ 1,  2,  3,  4,  5,  6,  7,  8,  9, 10, 11, 12, 13, 14, 15, 16, 17,\n",
       "       18, 19])"
      ]
     },
     "execution_count": 142,
     "metadata": {},
     "output_type": "execute_result"
    }
   ],
   "source": [
    "X[X != 0]"
   ]
  },
  {
   "cell_type": "code",
   "execution_count": 143,
   "metadata": {
    "collapsed": true
   },
   "outputs": [],
   "source": [
    "a = np.eye((2))"
   ]
  },
  {
   "cell_type": "code",
   "execution_count": 144,
   "metadata": {
    "collapsed": false
   },
   "outputs": [
    {
     "data": {
      "text/plain": [
       "array([[ 1.,  0.],\n",
       "       [ 0.,  1.]])"
      ]
     },
     "execution_count": 144,
     "metadata": {},
     "output_type": "execute_result"
    }
   ],
   "source": [
    "a"
   ]
  },
  {
   "cell_type": "code",
   "execution_count": 146,
   "metadata": {
    "collapsed": true
   },
   "outputs": [],
   "source": [
    "b = a"
   ]
  },
  {
   "cell_type": "code",
   "execution_count": 148,
   "metadata": {
    "collapsed": false
   },
   "outputs": [
    {
     "data": {
      "text/plain": [
       "array([[ 1.,  0.],\n",
       "       [ 0.,  1.]])"
      ]
     },
     "execution_count": 148,
     "metadata": {},
     "output_type": "execute_result"
    }
   ],
   "source": [
    "b"
   ]
  },
  {
   "cell_type": "code",
   "execution_count": 149,
   "metadata": {
    "collapsed": true
   },
   "outputs": [],
   "source": [
    "a[0, 0] = 0"
   ]
  },
  {
   "cell_type": "code",
   "execution_count": 151,
   "metadata": {
    "collapsed": false
   },
   "outputs": [
    {
     "data": {
      "text/plain": [
       "array([[ 0.,  0.],\n",
       "       [ 0.,  1.]])"
      ]
     },
     "execution_count": 151,
     "metadata": {},
     "output_type": "execute_result"
    }
   ],
   "source": [
    "a"
   ]
  },
  {
   "cell_type": "code",
   "execution_count": 153,
   "metadata": {
    "collapsed": false
   },
   "outputs": [
    {
     "data": {
      "text/plain": [
       "array([[ 0.,  0.],\n",
       "       [ 0.,  1.]])"
      ]
     },
     "execution_count": 153,
     "metadata": {},
     "output_type": "execute_result"
    }
   ],
   "source": [
    "b"
   ]
  },
  {
   "cell_type": "code",
   "execution_count": 170,
   "metadata": {
    "collapsed": true
   },
   "outputs": [],
   "source": [
    "a = np.eye((2))\n"
   ]
  },
  {
   "cell_type": "code",
   "execution_count": 171,
   "metadata": {
    "collapsed": false
   },
   "outputs": [
    {
     "name": "stdout",
     "output_type": "stream",
     "text": [
      "[[ 1.  0.]\n",
      " [ 0.  1.]]\n",
      "[[ 1.  0.]\n",
      " [ 0.  1.]]\n"
     ]
    }
   ],
   "source": [
    "print(a)\n",
    "b[:] = a\n",
    "print(b)"
   ]
  },
  {
   "cell_type": "code",
   "execution_count": 172,
   "metadata": {
    "collapsed": false
   },
   "outputs": [
    {
     "name": "stdout",
     "output_type": "stream",
     "text": [
      "[[ 0.  0.]\n",
      " [ 0.  1.]]\n",
      "[[ 1.  0.]\n",
      " [ 0.  1.]]\n"
     ]
    }
   ],
   "source": [
    "a[0, 0] = 0\n",
    "print(a)\n",
    "print(b)"
   ]
  },
  {
   "cell_type": "code",
   "execution_count": 177,
   "metadata": {
    "collapsed": true
   },
   "outputs": [],
   "source": [
    "a = np.array((0, 1, 2))"
   ]
  },
  {
   "cell_type": "code",
   "execution_count": 183,
   "metadata": {
    "collapsed": true
   },
   "outputs": [],
   "source": [
    "b = np.zeros((3, 3, 4))"
   ]
  },
  {
   "cell_type": "code",
   "execution_count": 184,
   "metadata": {
    "collapsed": false
   },
   "outputs": [
    {
     "name": "stdout",
     "output_type": "stream",
     "text": [
      "[0 1 2]\n",
      "[[[ 0.  0.  0.  0.]\n",
      "  [ 0.  0.  0.  0.]\n",
      "  [ 0.  0.  0.  0.]]\n",
      "\n",
      " [[ 0.  0.  0.  0.]\n",
      "  [ 0.  0.  0.  0.]\n",
      "  [ 0.  0.  0.  0.]]\n",
      "\n",
      " [[ 0.  0.  0.  0.]\n",
      "  [ 0.  0.  0.  0.]\n",
      "  [ 0.  0.  0.  0.]]]\n"
     ]
    }
   ],
   "source": [
    "print(a)\n",
    "print(b)"
   ]
  },
  {
   "cell_type": "code",
   "execution_count": 185,
   "metadata": {
    "collapsed": false
   },
   "outputs": [
    {
     "data": {
      "text/plain": [
       "(3,)"
      ]
     },
     "execution_count": 185,
     "metadata": {},
     "output_type": "execute_result"
    }
   ],
   "source": [
    "a.shape"
   ]
  },
  {
   "cell_type": "code",
   "execution_count": 187,
   "metadata": {
    "collapsed": false
   },
   "outputs": [
    {
     "data": {
      "text/plain": [
       "(3, 3, 4)"
      ]
     },
     "execution_count": 187,
     "metadata": {},
     "output_type": "execute_result"
    }
   ],
   "source": [
    "b.shape"
   ]
  },
  {
   "cell_type": "code",
   "execution_count": 191,
   "metadata": {
    "collapsed": false
   },
   "outputs": [
    {
     "ename": "ValueError",
     "evalue": "operands could not be broadcast together with shapes (3,) (3,3,4) ",
     "output_type": "error",
     "traceback": [
      "\u001b[0;31m---------------------------------------------------------------------------\u001b[0m",
      "\u001b[0;31mValueError\u001b[0m                                Traceback (most recent call last)",
      "\u001b[0;32m<ipython-input-191-f96fb8f649b6>\u001b[0m in \u001b[0;36m<module>\u001b[0;34m()\u001b[0m\n\u001b[0;32m----> 1\u001b[0;31m \u001b[0ma\u001b[0m \u001b[0;34m+\u001b[0m \u001b[0mb\u001b[0m\u001b[0;34m\u001b[0m\u001b[0m\n\u001b[0m",
      "\u001b[0;31mValueError\u001b[0m: operands could not be broadcast together with shapes (3,) (3,3,4) "
     ]
    }
   ],
   "source": [
    "a + b"
   ]
  },
  {
   "cell_type": "code",
   "execution_count": 190,
   "metadata": {
    "collapsed": false
   },
   "outputs": [
    {
     "data": {
      "text/plain": [
       "array([[[ 0.,  0.,  0.,  0.],\n",
       "        [ 1.,  1.,  1.,  1.],\n",
       "        [ 2.,  2.,  2.,  2.]],\n",
       "\n",
       "       [[ 0.,  0.,  0.,  0.],\n",
       "        [ 1.,  1.,  1.,  1.],\n",
       "        [ 2.,  2.,  2.,  2.]],\n",
       "\n",
       "       [[ 0.,  0.,  0.,  0.],\n",
       "        [ 1.,  1.,  1.,  1.],\n",
       "        [ 2.,  2.,  2.,  2.]]])"
      ]
     },
     "execution_count": 190,
     "metadata": {},
     "output_type": "execute_result"
    }
   ],
   "source": [
    "a[:, np.newaxis] + b"
   ]
  },
  {
   "cell_type": "code",
   "execution_count": 194,
   "metadata": {
    "collapsed": false
   },
   "outputs": [
    {
     "ename": "ValueError",
     "evalue": "operands could not be broadcast together with shapes (1,3) (3,3,4) ",
     "output_type": "error",
     "traceback": [
      "\u001b[0;31m---------------------------------------------------------------------------\u001b[0m",
      "\u001b[0;31mValueError\u001b[0m                                Traceback (most recent call last)",
      "\u001b[0;32m<ipython-input-194-cfd6b92fdf52>\u001b[0m in \u001b[0;36m<module>\u001b[0;34m()\u001b[0m\n\u001b[0;32m----> 1\u001b[0;31m \u001b[0ma\u001b[0m\u001b[0;34m[\u001b[0m\u001b[0mnp\u001b[0m\u001b[0;34m.\u001b[0m\u001b[0mnewaxis\u001b[0m\u001b[0;34m,\u001b[0m \u001b[0;34m:\u001b[0m\u001b[0;34m]\u001b[0m \u001b[0;34m*\u001b[0m \u001b[0mb\u001b[0m\u001b[0;34m\u001b[0m\u001b[0m\n\u001b[0m",
      "\u001b[0;31mValueError\u001b[0m: operands could not be broadcast together with shapes (1,3) (3,3,4) "
     ]
    }
   ],
   "source": [
    "a[np.newaxis, :] * b"
   ]
  },
  {
   "cell_type": "code",
   "execution_count": null,
   "metadata": {
    "collapsed": true
   },
   "outputs": [],
   "source": []
  }
 ],
 "metadata": {
  "kernelspec": {
   "display_name": "Python 3",
   "language": "python",
   "name": "python3"
  },
  "language_info": {
   "codemirror_mode": {
    "name": "ipython",
    "version": 3
   },
   "file_extension": ".py",
   "mimetype": "text/x-python",
   "name": "python",
   "nbconvert_exporter": "python",
   "pygments_lexer": "ipython3",
   "version": "3.5.2"
  }
 },
 "nbformat": 4,
 "nbformat_minor": 0
}
