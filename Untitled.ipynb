{
 "cells": [
  {
   "cell_type": "code",
   "execution_count": null,
   "metadata": {
    "collapsed": true
   },
   "outputs": [],
   "source": [
    "w[0] = 100\n",
    "for(t in (1:T)\n",
    "    x <- Bern(p)\n",
    "    u <- Uni(0,1)\n",
    "    If u > p \n",
    "    w = w + 1\n",
    "    else \n",
    "        w = w - 1 \n",
    "        \n",
    "p <- seq(0, 1.0, step)\n",
    "        \n",
    "w0 <- 100 # Initial wealth\n",
    "T <- 10 # Terminal time\n",
    "N <- length(p)\n",
    "        \n",
    "# Create empty objects to fill \n",
    "\n",
    "# Before we had a vector w = [w1, w2, w3...]\n",
    "# Now we want a matrix (rows = number of periods, columns = different values of p)\n",
    "w <- rep(0, N* (T+1))\n",
    "x <- rep(0, N)\n",
    "        \n",
    "        # Then nested for loop \n",
    "for (n in 1:N){\n",
    "    for (t in 1:T){\n",
    "        # A random loop\n",
    "        u <- runif(1) # in the loop (for next question -> outside the loop)\n",
    "    }\n",
    "}"
   ]
  }
 ],
 "metadata": {
  "anaconda-cloud": {},
  "kernelspec": {
   "display_name": "R",
   "language": "R",
   "name": "ir"
  },
  "language_info": {
   "codemirror_mode": "r",
   "file_extension": ".r",
   "mimetype": "text/x-r-source",
   "name": "R",
   "pygments_lexer": "r",
   "version": "3.3.1"
  }
 },
 "nbformat": 4,
 "nbformat_minor": 0
}
