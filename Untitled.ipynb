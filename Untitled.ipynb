{
 "cells": [
  {
   "cell_type": "code",
   "execution_count": 1,
   "metadata": {
    "collapsed": false
   },
   "outputs": [
    {
     "data": {
      "text/html": [
       "\"You started with $100\""
      ],
      "text/latex": [
       "\"You started with $100\""
      ],
      "text/markdown": [
       "\"You started with $100\""
      ],
      "text/plain": [
       "[1] \"You started with $100\""
      ]
     },
     "metadata": {},
     "output_type": "display_data"
    },
    {
     "name": "stdout",
     "output_type": "stream",
     "text": [
      "[1] \"You win!\"\n",
      "[1] \"Now you've got $101.\"\n",
      "[1] \"You win!\"\n",
      "[1] \"Now you've got $102.\"\n",
      "[1] \"You win!\"\n",
      "[1] \"Now you've got $103.\"\n",
      "[1] \"You lose!\"\n",
      "[1] \"Now you've got $102.\"\n",
      "[1] \"You win!\"\n",
      "[1] \"Now you've got $103.\"\n",
      "[1] \"You win!\"\n",
      "[1] \"Now you've got $104.\"\n",
      "[1] \"You win!\"\n",
      "[1] \"Now you've got $105.\"\n",
      "[1] \"You win!\"\n",
      "[1] \"Now you've got $106.\"\n",
      "[1] \"You win!\"\n",
      "[1] \"Now you've got $107.\"\n",
      "[1] \"You lose!\"\n",
      "[1] \"Now you've got $106.\"\n"
     ]
    }
   ],
   "source": [
    "# 1. Re-write the above code to loop over different values of p.\n",
    "\n",
    "w <- 100 # Initial wealth\n",
    "p <- 0.7 # Probability of a win\n",
    "T <- 10  # Terminal time\n",
    "\n",
    "sprintf(\"You started with $%s\", w)\n",
    "\n",
    "for(t in 1:T){\n",
    "    # A random draw\n",
    "    u <- runif(1)\n",
    "    if(u <= 1 - p){\n",
    "        print(\"You lose!\")\n",
    "        x <- 0\n",
    "        w <- w - 1\n",
    "    } else {\n",
    "        print(\"You win!\")\n",
    "        x <- 1\n",
    "        w <- w + 1\n",
    "    }\n",
    "    print(sprintf(\"Now you've got $%s.\", w))\n",
    "    \n",
    "}"
   ]
  },
  {
   "cell_type": "code",
   "execution_count": 9,
   "metadata": {
    "collapsed": false
   },
   "outputs": [
    {
     "data": {
      "text/html": [
       "\"You started with $100\""
      ],
      "text/latex": [
       "\"You started with $100\""
      ],
      "text/markdown": [
       "\"You started with $100\""
      ],
      "text/plain": [
       "[1] \"You started with $100\""
      ]
     },
     "metadata": {},
     "output_type": "display_data"
    },
    {
     "name": "stdout",
     "output_type": "stream",
     "text": [
      "[1] \"You lose!\"\n",
      "[1] \"Now you've got $99.\"\n",
      "[1] \"You lose!\"\n",
      "[1] \"Now you've got $98.\"\n",
      "[1] \"You lose!\"\n",
      "[1] \"Now you've got $97.\"\n",
      "[1] \"You lose!\"\n",
      "[1] \"Now you've got $96.\"\n",
      "[1] \"You lose!\"\n",
      "[1] \"Now you've got $95.\"\n",
      "[1] \"You lose!\"\n",
      "[1] \"Now you've got $94.\"\n",
      "[1] \"You lose!\"\n",
      "[1] \"Now you've got $93.\"\n",
      "[1] \"You lose!\"\n",
      "[1] \"Now you've got $92.\"\n",
      "[1] \"You lose!\"\n",
      "[1] \"Now you've got $91.\"\n",
      "[1] \"You lose!\"\n",
      "[1] \"Now you've got $90.\"\n"
     ]
    }
   ],
   "source": [
    "# 2. Re-write the code to use different values of $p$, \n",
    "# but the same random shocks each period.\n",
    "\n",
    "w <- 100 # Initial wealth\n",
    "p <- 0.7 # Probability of a win\n",
    "T <- 10  # Terminal time\n",
    "\n",
    "sprintf(\"You started with $%s\", w)\n",
    "\n",
    "for(t in 1:T){\n",
    "    u <- runif(1)\n",
    "    if(u < 1.1){ #modifying the success space to an unreachable level makes you loose always. \n",
    "        print(\"You lose!\")\n",
    "        x <- 0\n",
    "        w <- w - 1\n",
    "    } else {\n",
    "        print(\"You win!\")\n",
    "        x <- 1\n",
    "        w <- w + 1\n",
    "    }\n",
    "    print(sprintf(\"Now you've got $%s.\", w))\n",
    "}\n",
    "\n"
   ]
  },
  {
   "cell_type": "code",
   "execution_count": 16,
   "metadata": {
    "collapsed": false
   },
   "outputs": [
    {
     "data": {
      "text/html": [
       "\"You started with $100\""
      ],
      "text/latex": [
       "\"You started with $100\""
      ],
      "text/markdown": [
       "\"You started with $100\""
      ],
      "text/plain": [
       "[1] \"You started with $100\""
      ]
     },
     "metadata": {},
     "output_type": "display_data"
    },
    {
     "name": "stdout",
     "output_type": "stream",
     "text": [
      "[1] \"You lose!\"\n",
      "[1] \"Now you've got $99.\"\n",
      "[1] \"You lose!\"\n",
      "[1] \"Now you've got $98.\"\n",
      "[1] \"You win!\"\n",
      "[1] \"Now you've got $99.\"\n",
      "[1] \"You win!\"\n",
      "[1] \"Now you've got $100.\"\n",
      "[1] \"You win!\"\n",
      "[1] \"Now you've got $101.\"\n",
      "[1] \"You lose!\"\n",
      "[1] \"Now you've got $100.\"\n",
      "[1] \"You lose!\"\n",
      "[1] \"Now you've got $99.\"\n",
      "[1] \"You lose!\"\n",
      "[1] \"Now you've got $98.\"\n",
      "[1] \"You win!\"\n",
      "[1] \"Now you've got $99.\"\n",
      "[1] \"You win!\"\n",
      "[1] \"Now you've got $100.\"\n"
     ]
    },
    {
     "ename": "ERROR",
     "evalue": "Error in xy.coords(x, y, xlabel, ylabel, log): 'x' and 'y' lengths differ\n",
     "output_type": "error",
     "traceback": [
      "Error in xy.coords(x, y, xlabel, ylabel, log): 'x' and 'y' lengths differ\nTraceback:\n",
      "1. plot(1:T, w, type = \"l\")",
      "2. plot.default(1:T, w, type = \"l\")",
      "3. xy.coords(x, y, xlabel, ylabel, log)",
      "4. stop(\"'x' and 'y' lengths differ\")"
     ]
    }
   ],
   "source": [
    "# a) Plot all the different paths for numbers 1 and 2 together on two plots.\n",
    "\n",
    "w <- 100 # Initial wealth\n",
    "p <- 0.7 # Probability of a win\n",
    "T <- 10  # Terminal time\n",
    "\n",
    "sprintf(\"You started with $%s\", w)\n",
    "\n",
    "for(t in 1:T){\n",
    "    # A random draw\n",
    "    u <- runif(1)\n",
    "    if(u <= 1 - p){\n",
    "        print(\"You lose!\")\n",
    "        x <- 0\n",
    "        w <- w - 1\n",
    "    } else {\n",
    "        print(\"You win!\")\n",
    "        x <- 1\n",
    "        w <- w + 1\n",
    "    }\n",
    "    print(sprintf(\"Now you've got $%s.\", w))\n",
    "    \n",
    "}\n",
    "plot(1:T, w, type='l')\n",
    "\n",
    "# I have no idea why this does not work??"
   ]
  },
  {
   "cell_type": "code",
   "execution_count": 17,
   "metadata": {
    "collapsed": false
   },
   "outputs": [
    {
     "data": {
      "text/html": [
       "\"You started with $100\""
      ],
      "text/latex": [
       "\"You started with $100\""
      ],
      "text/markdown": [
       "\"You started with $100\""
      ],
      "text/plain": [
       "[1] \"You started with $100\""
      ]
     },
     "metadata": {},
     "output_type": "display_data"
    },
    {
     "name": "stdout",
     "output_type": "stream",
     "text": [
      "[1] \"You lose!\"\n",
      "[1] \"Now you've got $99.\"\n",
      "[1] \"You lose!\"\n",
      "[1] \"Now you've got $98.\"\n",
      "[1] \"You lose!\"\n",
      "[1] \"Now you've got $97.\"\n",
      "[1] \"You lose!\"\n",
      "[1] \"Now you've got $96.\"\n",
      "[1] \"You lose!\"\n",
      "[1] \"Now you've got $95.\"\n",
      "[1] \"You lose!\"\n",
      "[1] \"Now you've got $94.\"\n",
      "[1] \"You lose!\"\n",
      "[1] \"Now you've got $93.\"\n",
      "[1] \"You lose!\"\n",
      "[1] \"Now you've got $92.\"\n",
      "[1] \"You lose!\"\n",
      "[1] \"Now you've got $91.\"\n",
      "[1] \"You lose!\"\n",
      "[1] \"Now you've got $90.\"\n"
     ]
    },
    {
     "ename": "ERROR",
     "evalue": "Error in xy.coords(x, y, xlabel, ylabel, log): 'x' and 'y' lengths differ\n",
     "output_type": "error",
     "traceback": [
      "Error in xy.coords(x, y, xlabel, ylabel, log): 'x' and 'y' lengths differ\nTraceback:\n",
      "1. plot(1:T, w, type = \"l\")",
      "2. plot.default(1:T, w, type = \"l\")",
      "3. xy.coords(x, y, xlabel, ylabel, log)",
      "4. stop(\"'x' and 'y' lengths differ\")"
     ]
    }
   ],
   "source": [
    "# a) Plot all the different paths for numbers 1 and 2 together on two plots.\n",
    "\n",
    "\n",
    "w <- 100 # Initial wealth\n",
    "p <- 0.7 # Probability of a win\n",
    "T <- 10  # Terminal time\n",
    "\n",
    "sprintf(\"You started with $%s\", w)\n",
    "\n",
    "for(t in 1:T){\n",
    "    u <- runif(1)\n",
    "    if(u < 1.1){ #modifying the success space to an unreachable level makes you loose always. \n",
    "        print(\"You lose!\")\n",
    "        x <- 0\n",
    "        w <- w - 1\n",
    "    } else {\n",
    "        print(\"You win!\")\n",
    "        x <- 1\n",
    "        w <- w + 1\n",
    "    }\n",
    "    print(sprintf(\"Now you've got $%s.\", w))\n",
    "}\n",
    "plot(1:T, w, type='l')"
   ]
  },
  {
   "cell_type": "code",
   "execution_count": null,
   "metadata": {
    "collapsed": true
   },
   "outputs": [],
   "source": []
  }
 ],
 "metadata": {
  "anaconda-cloud": {},
  "kernelspec": {
   "display_name": "R",
   "language": "R",
   "name": "ir"
  },
  "language_info": {
   "codemirror_mode": "r",
   "file_extension": ".r",
   "mimetype": "text/x-r-source",
   "name": "R",
   "pygments_lexer": "r",
   "version": "3.3.1"
  }
 },
 "nbformat": 4,
 "nbformat_minor": 0
}
