{
 "cells": [
  {
   "cell_type": "code",
   "execution_count": 1,
   "metadata": {
    "collapsed": false
   },
   "outputs": [
    {
     "data": {
      "text/html": [
       "0.967176550999284"
      ],
      "text/latex": [
       "0.967176550999284"
      ],
      "text/markdown": [
       "0.967176550999284"
      ],
      "text/plain": [
       "[1] 0.9671766"
      ]
     },
     "metadata": {},
     "output_type": "display_data"
    }
   ],
   "source": [
    "runif(1)"
   ]
  },
  {
   "cell_type": "code",
   "execution_count": 5,
   "metadata": {
    "collapsed": true
   },
   "outputs": [],
   "source": [
    "my_add <- function(a,b){\n",
    "    return(a+b)\n",
    "}"
   ]
  },
  {
   "cell_type": "code",
   "execution_count": 6,
   "metadata": {
    "collapsed": false
   },
   "outputs": [
    {
     "data": {
      "text/html": [
       "2"
      ],
      "text/latex": [
       "2"
      ],
      "text/markdown": [
       "2"
      ],
      "text/plain": [
       "[1] 2"
      ]
     },
     "metadata": {},
     "output_type": "display_data"
    }
   ],
   "source": [
    "my_add(1,1)\n"
   ]
  },
  {
   "cell_type": "code",
   "execution_count": 8,
   "metadata": {
    "collapsed": false,
    "scrolled": true
   },
   "outputs": [
    {
     "data": {
      "text/html": [
       "1"
      ],
      "text/latex": [
       "1"
      ],
      "text/markdown": [
       "1"
      ],
      "text/plain": [
       "[1] 1"
      ]
     },
     "metadata": {},
     "output_type": "display_data"
    }
   ],
   "source": [
    "whereis <-function(pattern, word){\n",
    "    return(grep(pattern, word))\n",
    "}\n",
    "whereis('I', 'Im lost')"
   ]
  },
  {
   "cell_type": "code",
   "execution_count": 19,
   "metadata": {
    "collapsed": false
   },
   "outputs": [
    {
     "data": {
      "text/html": [
       "No documentation for 'whe' in specified packages and libraries:\n",
       "you could try '??whe'"
      ],
      "text/latex": [
       "No documentation for 'whe' in specified packages and libraries:\n",
       "you could try '??whe'"
      ],
      "text/plain": [
       "No documentation for 'whe' in specified packages and libraries:\n",
       "you could try '??whe'"
      ]
     },
     "metadata": {},
     "output_type": "display_data"
    }
   ],
   "source": [
    "?whe"
   ]
  },
  {
   "cell_type": "code",
   "execution_count": 11,
   "metadata": {
    "collapsed": true
   },
   "outputs": [],
   "source": [
    "x<-rep(1,10)\n"
   ]
  },
  {
   "cell_type": "code",
   "execution_count": null,
   "metadata": {
    "collapsed": true
   },
   "outputs": [],
   "source": [
    "\n",
    "summ <-0\n",
    "for(i in x){\n",
    "    summ <-\n",
    "}\n"
   ]
  },
  {
   "cell_type": "code",
   "execution_count": 14,
   "metadata": {
    "collapsed": false
   },
   "outputs": [
    {
     "data": {
      "text/html": [
       "\"double\""
      ],
      "text/latex": [
       "\"double\""
      ],
      "text/markdown": [
       "\"double\""
      ],
      "text/plain": [
       "[1] \"double\""
      ]
     },
     "metadata": {},
     "output_type": "display_data"
    }
   ],
   "source": [
    "typeof(1.0)"
   ]
  },
  {
   "cell_type": "code",
   "execution_count": 15,
   "metadata": {
    "collapsed": false
   },
   "outputs": [
    {
     "data": {
      "text/html": [
       "\"logical\""
      ],
      "text/latex": [
       "\"logical\""
      ],
      "text/markdown": [
       "\"logical\""
      ],
      "text/plain": [
       "[1] \"logical\""
      ]
     },
     "metadata": {},
     "output_type": "display_data"
    }
   ],
   "source": [
    "typeof(T)"
   ]
  },
  {
   "cell_type": "code",
   "execution_count": null,
   "metadata": {
    "collapsed": false
   },
   "outputs": [],
   "source": []
  },
  {
   "cell_type": "code",
   "execution_count": null,
   "metadata": {
    "collapsed": false
   },
   "outputs": [],
   "source": []
  },
  {
   "cell_type": "code",
   "execution_count": 25,
   "metadata": {
    "collapsed": false
   },
   "outputs": [],
   "source": [
    "sample <- function(n, F_inv=function(x) x){\n",
    "    sam <- runif(n)\n",
    "    return(F_inv(sam))\n",
    "    # return means --> give me the output\n",
    "}"
   ]
  },
  {
   "cell_type": "code",
   "execution_count": 35,
   "metadata": {
    "collapsed": false
   },
   "outputs": [
    {
     "data": {
      "text/html": [
       "<ol class=list-inline>\n",
       "\t<li>0.437555749667808</li>\n",
       "\t<li>0.313393759308383</li>\n",
       "\t<li>0.197384983533993</li>\n",
       "\t<li>0.963169599417597</li>\n",
       "\t<li>0.448153286939487</li>\n",
       "\t<li>0.292166765546426</li>\n",
       "\t<li>0.705046655144542</li>\n",
       "\t<li>0.221556183416396</li>\n",
       "\t<li>0.939337072195485</li>\n",
       "\t<li>0.050456085242331</li>\n",
       "</ol>\n"
      ],
      "text/latex": [
       "\\begin{enumerate*}\n",
       "\\item 0.437555749667808\n",
       "\\item 0.313393759308383\n",
       "\\item 0.197384983533993\n",
       "\\item 0.963169599417597\n",
       "\\item 0.448153286939487\n",
       "\\item 0.292166765546426\n",
       "\\item 0.705046655144542\n",
       "\\item 0.221556183416396\n",
       "\\item 0.939337072195485\n",
       "\\item 0.050456085242331\n",
       "\\end{enumerate*}\n"
      ],
      "text/markdown": [
       "1. 0.437555749667808\n",
       "2. 0.313393759308383\n",
       "3. 0.197384983533993\n",
       "4. 0.963169599417597\n",
       "5. 0.448153286939487\n",
       "6. 0.292166765546426\n",
       "7. 0.705046655144542\n",
       "8. 0.221556183416396\n",
       "9. 0.939337072195485\n",
       "10. 0.050456085242331\n",
       "\n",
       "\n"
      ],
      "text/plain": [
       " [1] 0.43755575 0.31339376 0.19738498 0.96316960 0.44815329 0.29216677\n",
       " [7] 0.70504666 0.22155618 0.93933707 0.05045609"
      ]
     },
     "metadata": {},
     "output_type": "display_data"
    },
    {
     "data": {
      "text/html": [
       "1.5"
      ],
      "text/latex": [
       "1.5"
      ],
      "text/markdown": [
       "1.5"
      ],
      "text/plain": [
       "[1] 1.5"
      ]
     },
     "metadata": {},
     "output_type": "display_data"
    },
    {
     "ename": "ERROR",
     "evalue": "Error in F_inv_unif(x, 1, 2, ): unbenutztes Argument ()\n",
     "output_type": "error",
     "traceback": [
      "Error in F_inv_unif(x, 1, 2, ): unbenutztes Argument ()\nTraceback:\n",
      "1. sample(10, F_inv = function(x) F_inv_unif(x, 1, 2, ))",
      "2. F_inv(sam)   # at line 3 of file <text>",
      "3. F_inv_unif(x, 1, 2, )   # at line 6 of file <text>"
     ]
    }
   ],
   "source": [
    "sample(10)\n",
    "F_inv_unif <- function(x, a, b){\n",
    "    return(x*(b - a) + a)\n",
    "}\n",
    "F_inv_unif(0.5, 1., 2.)\n",
    "sample(10, F_inv=function(x) F_inv_unif(x, 1.0, 2.0,))"
   ]
  },
  {
   "cell_type": "code",
   "execution_count": null,
   "metadata": {
    "collapsed": true
   },
   "outputs": [],
   "source": [
    "test <- function(x)"
   ]
  }
 ],
 "metadata": {
  "anaconda-cloud": {},
  "kernelspec": {
   "display_name": "R",
   "language": "R",
   "name": "ir"
  },
  "language_info": {
   "codemirror_mode": "r",
   "file_extension": ".r",
   "mimetype": "text/x-r-source",
   "name": "R",
   "pygments_lexer": "r",
   "version": "3.3.1"
  }
 },
 "nbformat": 4,
 "nbformat_minor": 0
}
